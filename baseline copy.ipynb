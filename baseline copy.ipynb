{
 "cells": [
  {
   "cell_type": "code",
   "execution_count": 163,
   "metadata": {},
   "outputs": [
    {
     "name": "stdout",
     "output_type": "stream",
     "text": [
      "The autoreload extension is already loaded. To reload it, use:\n",
      "  %reload_ext autoreload\n"
     ]
    }
   ],
   "source": [
    "%load_ext autoreload\n",
    "%autoreload 2"
   ]
  },
  {
   "cell_type": "code",
   "execution_count": 164,
   "metadata": {},
   "outputs": [],
   "source": [
    "import sys\n",
    "import os\n",
    "\n",
    "# Add the src directory to the Python path\n",
    "src_path = os.path.join(os.getcwd(), 'src')\n",
    "if src_path not in sys.path:\n",
    "    sys.path.append(src_path)"
   ]
  },
  {
   "cell_type": "code",
   "execution_count": 165,
   "metadata": {},
   "outputs": [],
   "source": [
    "# %pip install scikit-learn "
   ]
  },
  {
   "cell_type": "code",
   "execution_count": 166,
   "metadata": {},
   "outputs": [],
   "source": [
    "import numpy as np\n",
    "import random\n",
    "import ast\n",
    "import pandas as pd\n",
    "import itertools\n",
    "from itertools import product\n",
    "import csv\n",
    "from src.data_preprocessing import *\n",
    "from sklearn.model_selection import train_test_split\n",
    "from src.optimizers import *\n",
    "from src.random_search import *\n",
    "from src.train_and_evaluate import Train\n",
    "from src.utils import *\n",
    "# from src.model_regularization import *\n",
    "from src.layer import *\n",
    "from src.batch_normalization import *\n",
    "from loss_functions import *\n",
    "from src.neural_network import *\n",
    "from src.train_and_evaluate import *\n",
    "from src.random_search import *\n",
    "from src.k_fold_cross_validation import *\n",
    "from src.early_stopping import *\n",
    "# from src.ensemble_learning import *\n",
    "# from src.data_split import *\n",
    "# from src.model import *\n",
    "np.random.seed(0)"
   ]
  },
  {
   "cell_type": "markdown",
   "metadata": {},
   "source": [
    "<!-- #### Data pre-processing for MONK Datasets  -->"
   ]
  },
  {
   "cell_type": "code",
   "execution_count": 167,
   "metadata": {},
   "outputs": [
    {
     "name": "stdout",
     "output_type": "stream",
     "text": [
      "one hot encoded data:  (169, 17)\n",
      "one hot encoded data:  (432, 17)\n"
     ]
    }
   ],
   "source": [
    "X_train, y_train = load_data(MONK_NUM=2)\n",
    "X_test, y_test = load_data(MONK_NUM=2, train=False)"
   ]
  },
  {
   "cell_type": "code",
   "execution_count": 168,
   "metadata": {},
   "outputs": [],
   "source": [
    "from sklearn.model_selection import train_test_split  # Ensure this import is present\n",
    "\n",
    "X_train, X_val, y_train, y_val = train_test_split(\n",
    "    X_train, y_train, test_size=0.2, random_state=42)\n",
    "X_train = np.asarray(X_train)\n",
    "y_train = np.asarray(y_train)\n",
    "X_val = np.asarray(X_val)\n",
    "y_val = np.asarray(y_val)"
   ]
  },
  {
   "cell_type": "code",
   "execution_count": 169,
   "metadata": {},
   "outputs": [
    {
     "name": "stdout",
     "output_type": "stream",
     "text": [
      "Training set size: 135\n",
      "Validation set size: 34\n",
      "Training set overlap with validation set: 2\n"
     ]
    }
   ],
   "source": [
    "print(\"Training set size:\", len(X_train))\n",
    "print(\"Validation set size:\", len(X_val))\n",
    "print(\"Training set overlap with validation set:\",\n",
    "      np.intersect1d(X_train, X_val).shape[0])"
   ]
  },
  {
   "cell_type": "code",
   "execution_count": 170,
   "metadata": {},
   "outputs": [
    {
     "name": "stdout",
     "output_type": "stream",
     "text": [
      "the shape:  (135, 17)\n",
      "the shape:  (34, 17)\n",
      "the shape:  (135, 1)\n",
      "the shape:  (34, 1)\n"
     ]
    }
   ],
   "source": [
    "# Print the shape of the resulting datasets\n",
    "for _ in [X_train, X_val, y_train, y_val]:\n",
    "    print(f\"the shape: \", _.shape)"
   ]
  },
  {
   "cell_type": "code",
   "execution_count": 171,
   "metadata": {},
   "outputs": [],
   "source": [
    "param_distributions = {\n",
    "    'hidden_size': [[3], [4], [5], [6]],\n",
    "    'hidden_activation': [[Activation_Tanh], [Activation_Leaky_ReLU], [Activation_Sigmoid], [Activation_ReLU]],\n",
    "    'batch_norm': [[True], [False]],\n",
    "    'learning_rate': [1e-4, 1e-3, 1e-2, 1e-1],\n",
    "    'l1': [0.0, 1e-5, 1e-4, 1e-3, 1e-2],\n",
    "    'l2': [0.0, 1e-5, 1e-4, 1e-3, 1e-2],\n",
    "    'dropout_rate': [0.0, 0.1, 0.3],\n",
    "    'batch_size': [1000],\n",
    "    'n_epochs': [150, 200],\n",
    "    'weight_decay': [0, 5e-2, 1e-2, 1e-3, 1e-5],\n",
    "    'patience': [0, 20, 30, 50],\n",
    "    'CC': [False]\n",
    "    # # Define combinations of hidden layer sizes and corresponding activations\n",
    "    # 'hidden_configs': [\n",
    "    #     {'hidden_size': [10], 'hidden_activation': [Activation_Tanh], 'batch_norm' : [True]},\n",
    "    #     {'hidden_size': [10, 10], 'hidden_activation': [Activation_Leaky_ReLU, Activation_ELU], 'batch_norm' : [True, True]},\n",
    "    #     {'hidden_size': [10, 10], 'hidden_activation': [Activation_Leaky_ReLU, Activation_ELU], 'batch_norm' : [True, True]},\n",
    "    #     {'hidden_size': [20, 20], 'hidden_activation': [Activation_Leaky_ReLU, Activation_ELU], 'batch_norm' : [True, False]},\n",
    "    #     {'hidden_size': [20, 20], 'hidden_activation': [Activation_Leaky_ReLU, Activation_ELU], 'batch_norm' : [True, True]},\n",
    "    #     {'hidden_size': [20, 20], 'hidden_activation': [Activation_ELU, Activation_ELU], 'batch_norm' : [True, False]},\n",
    "    #     {'hidden_size': [10, 10], 'hidden_activation': [Activation_Leaky_ReLU, Activation_ELU], 'batch_norm' : [True, False]},\n",
    "    #     {'hidden_size': [32, 16], 'hidden_activation': [Activation_Leaky_ReLU, Activation_Sigmoid], 'batch_norm' : [False, True]},  \n",
    "    #     {'hidden_size': [30, 30], 'hidden_activation': [Activation_Leaky_ReLU, Activation_ELU], 'batch_norm' : [True, False]},\n",
    "    #     {'hidden_size': [64, 32, 16], 'hidden_activation': [Activation_ReLU, Activation_ReLU, Activation_Tanh], 'batch_norm' : [True, False, True]},\n",
    "    #     {'hidden_size': [30, 30], 'hidden_activation': [Activation_Leaky_ReLU, Activation_ELU], 'batch_norm': [True, False]}\n",
    "    # ]   \n",
    "}"
   ]
  },
  {
   "cell_type": "markdown",
   "metadata": {},
   "source": [
    "TODO:\n",
    "\n",
    "Create a seperate best_results csv file for each MONK "
   ]
  },
  {
   "cell_type": "code",
   "execution_count": 176,
   "metadata": {},
   "outputs": [
    {
     "ename": "NameError",
     "evalue": "name 'NN' is not defined",
     "output_type": "error",
     "traceback": [
      "\u001b[1;31m---------------------------------------------------------------------------\u001b[0m",
      "\u001b[1;31mNameError\u001b[0m                                 Traceback (most recent call last)",
      "Cell \u001b[1;32mIn[176], line 1\u001b[0m\n\u001b[1;32m----> 1\u001b[0m best_hyperparams, best_performance \u001b[38;5;241m=\u001b[39m random_search(X_train\u001b[38;5;241m=\u001b[39mX_train, y_train\u001b[38;5;241m=\u001b[39my_train, param_distributions\u001b[38;5;241m=\u001b[39mparam_distributions, n_iters\u001b[38;5;241m=\u001b[39m\u001b[38;5;241m30\u001b[39m)  \u001b[38;5;66;03m# adjust n_iters as needed\u001b[39;00m\n\u001b[0;32m      3\u001b[0m \u001b[38;5;28mprint\u001b[39m(best_hyperparams)\n",
      "File \u001b[1;32md:\\SCHOOL STUFF\\MASTER'S - COMPUTER SCIENCE - AI\\SEM 1\\PROJECTS\\machine learning\\ML_project\\src\\random_search.py:45\u001b[0m, in \u001b[0;36mrandom_search\u001b[1;34m(X_train, y_train, param_distributions, n_iters, csv_path)\u001b[0m\n\u001b[0;32m     30\u001b[0m params \u001b[38;5;241m=\u001b[39m {\n\u001b[0;32m     31\u001b[0m     \u001b[38;5;124m'\u001b[39m\u001b[38;5;124mlearning_rate\u001b[39m\u001b[38;5;124m'\u001b[39m: random\u001b[38;5;241m.\u001b[39mchoice(param_distributions[\u001b[38;5;124m'\u001b[39m\u001b[38;5;124mlearning_rate\u001b[39m\u001b[38;5;124m'\u001b[39m]),\n\u001b[0;32m     32\u001b[0m     \u001b[38;5;124m'\u001b[39m\u001b[38;5;124ml1\u001b[39m\u001b[38;5;124m'\u001b[39m: random\u001b[38;5;241m.\u001b[39mchoice(param_distributions[\u001b[38;5;124m'\u001b[39m\u001b[38;5;124ml1\u001b[39m\u001b[38;5;124m'\u001b[39m]),\n\u001b[1;32m   (...)\u001b[0m\n\u001b[0;32m     41\u001b[0m     \u001b[38;5;124m'\u001b[39m\u001b[38;5;124mpatience\u001b[39m\u001b[38;5;124m'\u001b[39m: random\u001b[38;5;241m.\u001b[39mchoice(param_distributions[\u001b[38;5;124m'\u001b[39m\u001b[38;5;124mpatience\u001b[39m\u001b[38;5;124m'\u001b[39m])            \n\u001b[0;32m     42\u001b[0m }\n\u001b[0;32m     44\u001b[0m \u001b[38;5;66;03m# Train and evaluate the model\u001b[39;00m\n\u001b[1;32m---> 45\u001b[0m _, val_accuracy \u001b[38;5;241m=\u001b[39m k_fold_cross_validation_manual(X\u001b[38;5;241m=\u001b[39mX_train, y\u001b[38;5;241m=\u001b[39my_train, l1\u001b[38;5;241m=\u001b[39mparams[\u001b[38;5;124m\"\u001b[39m\u001b[38;5;124ml1\u001b[39m\u001b[38;5;124m\"\u001b[39m], l2\u001b[38;5;241m=\u001b[39mparams[\u001b[38;5;124m\"\u001b[39m\u001b[38;5;124ml2\u001b[39m\u001b[38;5;124m\"\u001b[39m],\n\u001b[0;32m     46\u001b[0m                             hidden_size\u001b[38;5;241m=\u001b[39mparams[\u001b[38;5;124m\"\u001b[39m\u001b[38;5;124mhidden_size\u001b[39m\u001b[38;5;124m\"\u001b[39m],\n\u001b[0;32m     47\u001b[0m                             hidden_activation\u001b[38;5;241m=\u001b[39mparams[\u001b[38;5;124m\"\u001b[39m\u001b[38;5;124mhidden_activation\u001b[39m\u001b[38;5;124m\"\u001b[39m],\n\u001b[0;32m     48\u001b[0m                             dropout_rate\u001b[38;5;241m=\u001b[39mparams[\u001b[38;5;124m\"\u001b[39m\u001b[38;5;124mdropout_rate\u001b[39m\u001b[38;5;124m\"\u001b[39m],\n\u001b[0;32m     49\u001b[0m                             use_batch_norm\u001b[38;5;241m=\u001b[39mparams[\u001b[38;5;124m\"\u001b[39m\u001b[38;5;124mbatch_norm\u001b[39m\u001b[38;5;124m\"\u001b[39m], \n\u001b[0;32m     50\u001b[0m                             learning_rate\u001b[38;5;241m=\u001b[39mparams[\u001b[38;5;124m\"\u001b[39m\u001b[38;5;124mlearning_rate\u001b[39m\u001b[38;5;124m\"\u001b[39m],\n\u001b[0;32m     51\u001b[0m                             n_epochs\u001b[38;5;241m=\u001b[39mparams[\u001b[38;5;124m\"\u001b[39m\u001b[38;5;124mn_epochs\u001b[39m\u001b[38;5;124m\"\u001b[39m],\n\u001b[0;32m     52\u001b[0m                             batch_size\u001b[38;5;241m=\u001b[39mparams[\u001b[38;5;124m\"\u001b[39m\u001b[38;5;124mbatch_size\u001b[39m\u001b[38;5;124m\"\u001b[39m],\n\u001b[0;32m     53\u001b[0m                             weight_decay\u001b[38;5;241m=\u001b[39mparams[\u001b[38;5;124m\"\u001b[39m\u001b[38;5;124mweight_decay\u001b[39m\u001b[38;5;124m\"\u001b[39m],\n\u001b[0;32m     54\u001b[0m                             patience\u001b[38;5;241m=\u001b[39mparams[\u001b[38;5;124m\"\u001b[39m\u001b[38;5;124mpatience\u001b[39m\u001b[38;5;124m\"\u001b[39m],\n\u001b[0;32m     55\u001b[0m                             k\u001b[38;5;241m=\u001b[39m\u001b[38;5;241m5\u001b[39m, seed\u001b[38;5;241m=\u001b[39m\u001b[38;5;241m42\u001b[39m)\n\u001b[0;32m     57\u001b[0m \u001b[38;5;66;03m# Save the result\u001b[39;00m\n\u001b[0;32m     58\u001b[0m result \u001b[38;5;241m=\u001b[39m params\u001b[38;5;241m.\u001b[39mcopy()\n",
      "File \u001b[1;32md:\\SCHOOL STUFF\\MASTER'S - COMPUTER SCIENCE - AI\\SEM 1\\PROJECTS\\machine learning\\ML_project\\src\\k_fold_cross_validation.py:26\u001b[0m, in \u001b[0;36mk_fold_cross_validation_manual\u001b[1;34m(X, y, l1, l2, hidden_size, hidden_activation, dropout_rate, use_batch_norm, learning_rate, n_epochs, batch_size, weight_decay, patience, k, seed)\u001b[0m\n\u001b[0;32m     23\u001b[0m X_train, y_train \u001b[38;5;241m=\u001b[39m X[train_indices], y[train_indices]\n\u001b[0;32m     24\u001b[0m X_val, y_val \u001b[38;5;241m=\u001b[39m X[val_indices], y[val_indices]\n\u001b[1;32m---> 26\u001b[0m model \u001b[38;5;241m=\u001b[39m NN(\n\u001b[0;32m     27\u001b[0m     l1\u001b[38;5;241m=\u001b[39ml1,\n\u001b[0;32m     28\u001b[0m     l2\u001b[38;5;241m=\u001b[39ml2,\n\u001b[0;32m     29\u001b[0m     input_size\u001b[38;5;241m=\u001b[39m\u001b[38;5;241m17\u001b[39m,\n\u001b[0;32m     30\u001b[0m     hidden_sizes\u001b[38;5;241m=\u001b[39mhidden_size,\n\u001b[0;32m     31\u001b[0m     output_size\u001b[38;5;241m=\u001b[39m\u001b[38;5;241m1\u001b[39m,\n\u001b[0;32m     32\u001b[0m     hidden_activations\u001b[38;5;241m=\u001b[39mhidden_activation,\n\u001b[0;32m     33\u001b[0m     dropout_rates\u001b[38;5;241m=\u001b[39m[dropout_rate],\n\u001b[0;32m     34\u001b[0m     use_batch_norm\u001b[38;5;241m=\u001b[39muse_batch_norm\n\u001b[0;32m     35\u001b[0m )\n\u001b[0;32m     37\u001b[0m _, val_acc \u001b[38;5;241m=\u001b[39m train_and_evaluate(X_train, y_train, X_val, y_val,\n\u001b[0;32m     38\u001b[0m                                 learning_rate\u001b[38;5;241m=\u001b[39mlearning_rate,\n\u001b[0;32m     39\u001b[0m                                 n_epochs\u001b[38;5;241m=\u001b[39mn_epochs, batch_size\u001b[38;5;241m=\u001b[39mbatch_size,\n\u001b[0;32m     40\u001b[0m                                 weight_decay\u001b[38;5;241m=\u001b[39mweight_decay, patience\u001b[38;5;241m=\u001b[39mpatience,\n\u001b[0;32m     41\u001b[0m                                 model\u001b[38;5;241m=\u001b[39mmodel)\n\u001b[0;32m     43\u001b[0m val_accuracies\u001b[38;5;241m.\u001b[39mappend(val_acc)\n",
      "\u001b[1;31mNameError\u001b[0m: name 'NN' is not defined"
     ]
    }
   ],
   "source": [
    "best_hyperparams, best_performance = random_search(X_train=X_train, y_train=y_train, param_distributions=param_distributions, n_iters=30)  # adjust n_iters as needed\n",
    "\n",
    "print(best_hyperparams)"
   ]
  },
  {
   "cell_type": "code",
   "execution_count": null,
   "metadata": {},
   "outputs": [
    {
     "name": "stdout",
     "output_type": "stream",
     "text": [
      "{'hidden_size': [4], 'hidden_activation': ['Activation_Leaky_ReLU'], 'batch_norm': [True], 'learning_rate': 0.1, 'l1': 0.0, 'l2': 0.0001, 'dropout_rate': 0.0, 'batch_size': 1000, 'n_epochs': 200, 'weight_decay': 0.01, 'patience': 50, 'CC': False, 'val_accuracy': np.float64(0.8666666666666668)}\n"
     ]
    }
   ],
   "source": [
    "print(best_hyperparams)"
   ]
  },
  {
   "cell_type": "markdown",
   "metadata": {},
   "source": [
    "GRID SEARCH"
   ]
  },
  {
   "cell_type": "code",
   "execution_count": null,
   "metadata": {},
   "outputs": [],
   "source": [
    "activation_map = {\n",
    "    'Activation_ReLU': Activation_ReLU,\n",
    "    'Activation_Tanh': Activation_Tanh,\n",
    "    'Activation_ELU': Activation_ELU,\n",
    "    'Activation_Leaky_ReLU': Activation_Leaky_ReLU,\n",
    "    'Activation_Sigmoid': Activation_Sigmoid\n",
    "}\n",
    "\n",
    "hidden_activation = [activation_map[act] for act in best_hyperparams['hidden_activation']]  "
   ]
  },
  {
   "cell_type": "code",
   "execution_count": null,
   "metadata": {},
   "outputs": [
    {
     "name": "stdout",
     "output_type": "stream",
     "text": [
      "[4] [<class 'src.activation_functions.Activation_Leaky_ReLU'>] [0.0] [True]\n"
     ]
    }
   ],
   "source": [
    "if best_hyperparams['CC']:\n",
    "    model = CascadeCorrelation(input_size = 17, output_size= 1, activation=Activation_Leaky_ReLU, output_activation = Activation_Sigmoid)\n",
    "else:\n",
    "    model = NN(\n",
    "        l1=best_hyperparams['l1'],\n",
    "        l2=best_hyperparams['l2'],\n",
    "        input_size=17,\n",
    "        hidden_sizes=best_hyperparams['hidden_size'],\n",
    "        output_size=1,\n",
    "        hidden_activations=hidden_activation,\n",
    "        dropout_rates=[best_hyperparams['dropout_rate']],\n",
    "        use_batch_norm=best_hyperparams['batch_norm']\n",
    "    )\n",
    "batch_size = best_hyperparams['batch_size']\n",
    "learning_rate = best_hyperparams['learning_rate']\n",
    "n_epochs = best_hyperparams['n_epochs']"
   ]
  },
  {
   "cell_type": "markdown",
   "metadata": {},
   "source": [
    "### Ensemble learning"
   ]
  },
  {
   "cell_type": "code",
   "execution_count": null,
   "metadata": {},
   "outputs": [],
   "source": [
    "class EnsembleNN:\n",
    "    def __init__(self, n_models=5):\n",
    "        self.models = []\n",
    "        self.n_models = n_models\n",
    "        self.loss_activation = Activation_Softmax_Loss_CategoricalCrossentropy()\n",
    "\n",
    "    def create_and_train_models(self, hyperparams, X_train, y_train, X_val, y_val):\n",
    "        \"\"\"Create and train multiple models with diverse configurations\"\"\"\n",
    "\n",
    "        # Create diverse configurations for better ensemble performance\n",
    "        base_configs = [\n",
    "            {**hyperparams, 'hidden_sizes': [64,\n",
    "                                             32], 'dropout_rates': [0.2, 0.3]},\n",
    "            {**hyperparams, 'hidden_sizes': [128,\n",
    "                                             64], 'dropout_rates': [0.3, 0.4]},\n",
    "            {**hyperparams, 'hidden_sizes': [32,\n",
    "                                             16], 'dropout_rates': [0.4, 0.2]},\n",
    "            {**hyperparams,\n",
    "                'learning_rate': hyperparams['learning_rate'] * 0.8},\n",
    "            {**hyperparams,\n",
    "                'learning_rate': hyperparams['learning_rate'] * 1.2},\n",
    "        ]\n",
    "\n",
    "        for i in range(self.n_models):\n",
    "            # Use different config for each model to add diversity\n",
    "            current_config = base_configs[i % len(base_configs)]\n",
    "\n",
    "            # Create model with diverse architecture\n",
    "            model = NN(\n",
    "                l1=current_config.get('l1', 0.0),\n",
    "                l2=current_config.get('l2', 0.0),\n",
    "                input_size=17,\n",
    "                hidden_sizes=current_config.get(\n",
    "                    'hidden_sizes', hyperparams.get('hidden_sizes', [64])),\n",
    "                output_size=1,\n",
    "                hidden_activations=current_config.get(\n",
    "                    'hidden_activation', hyperparams.get('hidden_activation')),\n",
    "                dropout_rates=current_config.get(\n",
    "                    'dropout_rates', [hyperparams.get('dropout_rate', 0.0)]),\n",
    "                use_batch_norm=current_config.get(\n",
    "                    'use_batch_norm', hyperparams.get('use_batch_norm', False))\n",
    "            )\n",
    "\n",
    "            print(f\"Training model {i+1}/{self.n_models}\")\n",
    "\n",
    "            # Create trainer instance\n",
    "            trainer = Train(hyperparameters=current_config, model=model)\n",
    "\n",
    "            # Add bootstrap sampling for data diversity\n",
    "            n_samples = len(X_train)\n",
    "            bootstrap_indices = np.random.choice(\n",
    "                n_samples, n_samples, replace=True)\n",
    "            X_train_boot = X_train.iloc[bootstrap_indices] if hasattr(\n",
    "                X_train, 'iloc') else X_train[bootstrap_indices]\n",
    "            y_train_boot = y_train.iloc[bootstrap_indices] if hasattr(\n",
    "                y_train, 'iloc') else y_train[bootstrap_indices]\n",
    "\n",
    "            # Train model\n",
    "            trained_model, val_accuracy = trainer.train_and_evaluate(\n",
    "                X_train_boot, y_train_boot, X_val, y_val\n",
    "            )\n",
    "\n",
    "            self.models.append(trained_model)\n",
    "            print(f\"Model {i+1} validation accuracy: {val_accuracy:.4f}\")\n",
    "\n",
    "    def predict(self, X):\n",
    "        \"\"\"Make predictions using majority voting\"\"\"\n",
    "        if not self.models:\n",
    "            raise ValueError(\n",
    "                \"No trained models found. Call create_and_train_models first.\")\n",
    "\n",
    "        predictions = []\n",
    "        for model in self.models:\n",
    "            model.forward(X, training=False)\n",
    "\n",
    "            # For binary classification with sigmoid output\n",
    "            if model.output.shape[1] == 1:\n",
    "                pred = (model.output.squeeze() > 0.5).astype(int)\n",
    "            else:\n",
    "                # For multi-class with softmax\n",
    "                pred = np.argmax(model.output, axis=1)\n",
    "\n",
    "            predictions.append(pred)\n",
    "\n",
    "        # Majority voting\n",
    "        predictions = np.array(predictions)\n",
    "        final_predictions = np.apply_along_axis(\n",
    "            lambda x: np.bincount(x).argmax(),\n",
    "            axis=0,\n",
    "            arr=predictions\n",
    "        )\n",
    "        return final_predictions\n",
    "\n",
    "    def predict_proba(self, X):\n",
    "        \"\"\"Get prediction probabilities from all models\"\"\"\n",
    "        if not self.models:\n",
    "            raise ValueError(\n",
    "                \"No trained models found. Call create_and_train_models first.\")\n",
    "\n",
    "        all_probas = []\n",
    "        for model in self.models:\n",
    "            model.forward(X, training=False)\n",
    "            all_probas.append(model.output.copy())\n",
    "\n",
    "        # Average probabilities\n",
    "        avg_probas = np.mean(all_probas, axis=0)\n",
    "        return avg_probas"
   ]
  },
  {
   "cell_type": "code",
   "execution_count": null,
   "metadata": {},
   "outputs": [
    {
     "name": "stdout",
     "output_type": "stream",
     "text": [
      "[64, 32] ['Activation_Leaky_ReLU'] [0.2, 0.3] [False, False]\n"
     ]
    },
    {
     "ename": "TypeError",
     "evalue": "'str' object is not callable",
     "output_type": "error",
     "traceback": [
      "\u001b[31m---------------------------------------------------------------------------\u001b[39m",
      "\u001b[31mTypeError\u001b[39m                                 Traceback (most recent call last)",
      "\u001b[36mCell\u001b[39m\u001b[36m \u001b[39m\u001b[32mIn[25]\u001b[39m\u001b[32m, line 14\u001b[39m\n\u001b[32m     11\u001b[39m ensemble = EnsembleNN(n_models=\u001b[32m5\u001b[39m)\n\u001b[32m     13\u001b[39m \u001b[38;5;66;03m# Pass the data to the method\u001b[39;00m\n\u001b[32m---> \u001b[39m\u001b[32m14\u001b[39m \u001b[43mensemble\u001b[49m\u001b[43m.\u001b[49m\u001b[43mcreate_and_train_models\u001b[49m\u001b[43m(\u001b[49m\n\u001b[32m     15\u001b[39m \u001b[43m    \u001b[49m\u001b[43mhyperparams\u001b[49m\u001b[43m=\u001b[49m\u001b[43mbest_hyperparams\u001b[49m\u001b[43m,\u001b[49m\n\u001b[32m     16\u001b[39m \u001b[43m    \u001b[49m\u001b[43mX_train\u001b[49m\u001b[43m=\u001b[49m\u001b[43mX_train\u001b[49m\u001b[43m,\u001b[49m\n\u001b[32m     17\u001b[39m \u001b[43m    \u001b[49m\u001b[43my_train\u001b[49m\u001b[43m=\u001b[49m\u001b[43my_train\u001b[49m\u001b[43m,\u001b[49m\n\u001b[32m     18\u001b[39m \u001b[43m    \u001b[49m\u001b[43mX_val\u001b[49m\u001b[43m=\u001b[49m\u001b[43mX_val\u001b[49m\u001b[43m,\u001b[49m\n\u001b[32m     19\u001b[39m \u001b[43m    \u001b[49m\u001b[43my_val\u001b[49m\u001b[43m=\u001b[49m\u001b[43my_val\u001b[49m\n\u001b[32m     20\u001b[39m \u001b[43m)\u001b[49m\n\u001b[32m     22\u001b[39m \u001b[38;5;66;03m# Make predictions\u001b[39;00m\n\u001b[32m     23\u001b[39m test_predictions = ensemble.predict(X_test)\n",
      "\u001b[36mCell\u001b[39m\u001b[36m \u001b[39m\u001b[32mIn[24]\u001b[39m\u001b[32m, line 29\u001b[39m, in \u001b[36mEnsembleNN.create_and_train_models\u001b[39m\u001b[34m(self, hyperparams, X_train, y_train, X_val, y_val)\u001b[39m\n\u001b[32m     26\u001b[39m current_config = base_configs[i % \u001b[38;5;28mlen\u001b[39m(base_configs)]\n\u001b[32m     28\u001b[39m \u001b[38;5;66;03m# Create model with diverse architecture\u001b[39;00m\n\u001b[32m---> \u001b[39m\u001b[32m29\u001b[39m model = \u001b[43mNN\u001b[49m\u001b[43m(\u001b[49m\n\u001b[32m     30\u001b[39m \u001b[43m    \u001b[49m\u001b[43ml1\u001b[49m\u001b[43m=\u001b[49m\u001b[43mcurrent_config\u001b[49m\u001b[43m.\u001b[49m\u001b[43mget\u001b[49m\u001b[43m(\u001b[49m\u001b[33;43m'\u001b[39;49m\u001b[33;43ml1\u001b[39;49m\u001b[33;43m'\u001b[39;49m\u001b[43m,\u001b[49m\u001b[43m \u001b[49m\u001b[32;43m0.0\u001b[39;49m\u001b[43m)\u001b[49m\u001b[43m,\u001b[49m\n\u001b[32m     31\u001b[39m \u001b[43m    \u001b[49m\u001b[43ml2\u001b[49m\u001b[43m=\u001b[49m\u001b[43mcurrent_config\u001b[49m\u001b[43m.\u001b[49m\u001b[43mget\u001b[49m\u001b[43m(\u001b[49m\u001b[33;43m'\u001b[39;49m\u001b[33;43ml2\u001b[39;49m\u001b[33;43m'\u001b[39;49m\u001b[43m,\u001b[49m\u001b[43m \u001b[49m\u001b[32;43m0.0\u001b[39;49m\u001b[43m)\u001b[49m\u001b[43m,\u001b[49m\n\u001b[32m     32\u001b[39m \u001b[43m    \u001b[49m\u001b[43minput_size\u001b[49m\u001b[43m=\u001b[49m\u001b[32;43m17\u001b[39;49m\u001b[43m,\u001b[49m\n\u001b[32m     33\u001b[39m \u001b[43m    \u001b[49m\u001b[43mhidden_sizes\u001b[49m\u001b[43m=\u001b[49m\u001b[43mcurrent_config\u001b[49m\u001b[43m.\u001b[49m\u001b[43mget\u001b[49m\u001b[43m(\u001b[49m\n\u001b[32m     34\u001b[39m \u001b[43m        \u001b[49m\u001b[33;43m'\u001b[39;49m\u001b[33;43mhidden_sizes\u001b[39;49m\u001b[33;43m'\u001b[39;49m\u001b[43m,\u001b[49m\u001b[43m \u001b[49m\u001b[43mhyperparams\u001b[49m\u001b[43m.\u001b[49m\u001b[43mget\u001b[49m\u001b[43m(\u001b[49m\u001b[33;43m'\u001b[39;49m\u001b[33;43mhidden_sizes\u001b[39;49m\u001b[33;43m'\u001b[39;49m\u001b[43m,\u001b[49m\u001b[43m \u001b[49m\u001b[43m[\u001b[49m\u001b[32;43m64\u001b[39;49m\u001b[43m]\u001b[49m\u001b[43m)\u001b[49m\u001b[43m)\u001b[49m\u001b[43m,\u001b[49m\n\u001b[32m     35\u001b[39m \u001b[43m    \u001b[49m\u001b[43moutput_size\u001b[49m\u001b[43m=\u001b[49m\u001b[32;43m1\u001b[39;49m\u001b[43m,\u001b[49m\n\u001b[32m     36\u001b[39m \u001b[43m    \u001b[49m\u001b[43mhidden_activations\u001b[49m\u001b[43m=\u001b[49m\u001b[43mcurrent_config\u001b[49m\u001b[43m.\u001b[49m\u001b[43mget\u001b[49m\u001b[43m(\u001b[49m\n\u001b[32m     37\u001b[39m \u001b[43m        \u001b[49m\u001b[33;43m'\u001b[39;49m\u001b[33;43mhidden_activation\u001b[39;49m\u001b[33;43m'\u001b[39;49m\u001b[43m,\u001b[49m\u001b[43m \u001b[49m\u001b[43mhidden_activation\u001b[49m\u001b[43m)\u001b[49m\u001b[43m,\u001b[49m\n\u001b[32m     38\u001b[39m \u001b[43m    \u001b[49m\u001b[43mdropout_rates\u001b[49m\u001b[43m=\u001b[49m\u001b[43mcurrent_config\u001b[49m\u001b[43m.\u001b[49m\u001b[43mget\u001b[49m\u001b[43m(\u001b[49m\n\u001b[32m     39\u001b[39m \u001b[43m        \u001b[49m\u001b[33;43m'\u001b[39;49m\u001b[33;43mdropout_rates\u001b[39;49m\u001b[33;43m'\u001b[39;49m\u001b[43m,\u001b[49m\u001b[43m \u001b[49m\u001b[43m[\u001b[49m\u001b[43mhyperparams\u001b[49m\u001b[43m.\u001b[49m\u001b[43mget\u001b[49m\u001b[43m(\u001b[49m\u001b[33;43m'\u001b[39;49m\u001b[33;43mdropout_rate\u001b[39;49m\u001b[33;43m'\u001b[39;49m\u001b[43m,\u001b[49m\u001b[43m \u001b[49m\u001b[32;43m0.0\u001b[39;49m\u001b[43m)\u001b[49m\u001b[43m]\u001b[49m\u001b[43m)\u001b[49m\u001b[43m,\u001b[49m\n\u001b[32m     40\u001b[39m \u001b[43m    \u001b[49m\u001b[43muse_batch_norm\u001b[49m\u001b[43m=\u001b[49m\u001b[43mcurrent_config\u001b[49m\u001b[43m.\u001b[49m\u001b[43mget\u001b[49m\u001b[43m(\u001b[49m\n\u001b[32m     41\u001b[39m \u001b[43m        \u001b[49m\u001b[33;43m'\u001b[39;49m\u001b[33;43muse_batch_norm\u001b[39;49m\u001b[33;43m'\u001b[39;49m\u001b[43m,\u001b[49m\u001b[43m \u001b[49m\u001b[43mhyperparams\u001b[49m\u001b[43m.\u001b[49m\u001b[43mget\u001b[49m\u001b[43m(\u001b[49m\u001b[33;43m'\u001b[39;49m\u001b[33;43muse_batch_norm\u001b[39;49m\u001b[33;43m'\u001b[39;49m\u001b[43m,\u001b[49m\u001b[43m \u001b[49m\u001b[38;5;28;43;01mFalse\u001b[39;49;00m\u001b[43m)\u001b[49m\u001b[43m)\u001b[49m\n\u001b[32m     42\u001b[39m \u001b[43m\u001b[49m\u001b[43m)\u001b[49m\n\u001b[32m     44\u001b[39m \u001b[38;5;28mprint\u001b[39m(\u001b[33mf\u001b[39m\u001b[33m\"\u001b[39m\u001b[33mTraining model \u001b[39m\u001b[38;5;132;01m{\u001b[39;00mi+\u001b[32m1\u001b[39m\u001b[38;5;132;01m}\u001b[39;00m\u001b[33m/\u001b[39m\u001b[38;5;132;01m{\u001b[39;00m\u001b[38;5;28mself\u001b[39m.n_models\u001b[38;5;132;01m}\u001b[39;00m\u001b[33m\"\u001b[39m)\n\u001b[32m     46\u001b[39m \u001b[38;5;66;03m# Create trainer instance\u001b[39;00m\n",
      "\u001b[36mFile \u001b[39m\u001b[32m<string>:17\u001b[39m, in \u001b[36m__init__\u001b[39m\u001b[34m(self, l1, l2, input_size, hidden_sizes, output_size, hidden_activations, dropout_rates, use_batch_norm, output_activation)\u001b[39m\n",
      "\u001b[31mTypeError\u001b[39m: 'str' object is not callable"
     ]
    }
   ],
   "source": [
    "# ensemble = EnsembleNN(n_models=5)\n",
    "\n",
    "# ensemble.create_and_train_models(best_hyperparams)\n",
    "\n",
    "# test_predictions = ensemble.predict(X_test)\n",
    "# test_accuracy = np.mean(test_predictions == y_test)\n",
    "\n",
    "# print(f\"Ensemble Test Accuracy: {test_accuracy:.4f}\")\n",
    "\n",
    "# Usage example\n",
    "ensemble = EnsembleNN(n_models=5)\n",
    "\n",
    "# Pass the data to the method\n",
    "ensemble.create_and_train_models(\n",
    "    hyperparams=best_hyperparams,\n",
    "    X_train=X_train,\n",
    "    y_train=y_train,\n",
    "    X_val=X_val,\n",
    "    y_val=y_val\n",
    ")\n",
    "\n",
    "# Make predictions\n",
    "test_predictions = ensemble.predict(X_test)\n",
    "test_accuracy = np.mean(test_predictions == y_test)\n",
    "print(f\"Ensemble Test Accuracy: {test_accuracy:.4f}\")\n",
    "\n",
    "# Optional: Get prediction probabilities\n",
    "test_probas = ensemble.predict_proba(X_test)\n",
    "print(\n",
    "    f\"Average prediction confidence: {np.mean(np.max(test_probas, axis=1)):.4f}\")"
   ]
  },
  {
   "cell_type": "code",
   "execution_count": null,
   "metadata": {},
   "outputs": [
    {
     "name": "stdout",
     "output_type": "stream",
     "text": [
      "Data shapes:\n",
      "X_train: (135, 17), y_train: (135,)\n",
      "Sample prediction: [[0.64252104]]\n",
      "Initial loss: 0.4128332908085566\n",
      "Epoch 0: Train Loss: 0.2960, Acc: 51.11% | Val Loss: 0.2885, Acc: 52.94%\n",
      "Epoch 10: Train Loss: 0.2170, Acc: 66.67% | Val Loss: 0.2837, Acc: 44.12%\n",
      "Epoch 20: Train Loss: 0.2081, Acc: 66.67% | Val Loss: 0.2992, Acc: 44.12%\n",
      "Epoch 30: Train Loss: 0.1758, Acc: 63.70% | Val Loss: 0.2912, Acc: 55.88%\n",
      "Epoch 40: Train Loss: 0.1220, Acc: 86.67% | Val Loss: 0.3154, Acc: 79.41%\n",
      "Epoch 50: Train Loss: 0.0391, Acc: 100.00% | Val Loss: 0.3478, Acc: 100.00%\n",
      "Epoch 60: Train Loss: 0.0091, Acc: 100.00% | Val Loss: 0.4060, Acc: 100.00%\n",
      "Epoch 70: Train Loss: 0.0072, Acc: 100.00% | Val Loss: 0.4110, Acc: 100.00%\n",
      "Epoch 80: Train Loss: 0.0105, Acc: 100.00% | Val Loss: 0.3985, Acc: 100.00%\n",
      "Epoch 90: Train Loss: 0.0084, Acc: 100.00% | Val Loss: 0.4068, Acc: 100.00%\n",
      "Epoch 100: Train Loss: 0.0072, Acc: 100.00% | Val Loss: 0.4154, Acc: 100.00%\n",
      "Epoch 110: Train Loss: 0.0067, Acc: 100.00% | Val Loss: 0.4147, Acc: 100.00%\n",
      "Early stopping at epoch 111\n",
      "Restoring model weights from epoch 11\n",
      "Final Validation Accuracy: 1.0000\n",
      "Test Accuracy: 1.0000\n"
     ]
    },
    {
     "data": {
      "image/png": "[encoded data removed]",
      "text/plain": [
       "<Figure size 800x600 with 1 Axes>"
      ]
     },
     "metadata": {},
     "output_type": "display_data"
    },
    {
     "data": {
      "image/png": "[encoded data removed]",
      "text/plain": [
       "<Figure size 800x600 with 1 Axes>"
      ]
     },
     "metadata": {},
     "output_type": "display_data"
    }
   ],
   "source": [
    "import copy\n",
    "\n",
    "train_losses = []\n",
    "train_accuracies = []\n",
    "val_losses = []\n",
    "val_accuracies = []\n",
    "\n",
    "loss_function = MSE()\n",
    "optimizer = Optimizer_Adam(learning_rate=learning_rate, decay=best_hyperparams['weight_decay'])\n",
    "\n",
    "# Initialize early stopping\n",
    "early_stopping = EarlyStopping(patience=100, min_delta_loss=1e-5, min_delta_accuracy=0.001)\n",
    "\n",
    "# Before training loop:\n",
    "print(\"Data shapes:\")\n",
    "print(f\"X_train: {X_train.shape}, y_train: {y_train.shape}\")\n",
    "print(f\"Sample prediction: {model.forward(X_train[:1])}\")\n",
    "print(f\"Initial loss: {loss_function.forward(model.output, y_train[:1])}\")\n",
    "\n",
    "# Training loop\n",
    "for epoch in range(n_epochs):\n",
    "    batch_losses = []\n",
    "    batch_accuracies = []\n",
    "\n",
    "    for X_batch, y_batch in create_batches(X_train, y_train, batch_size):\n",
    "        # Forward pass\n",
    "        model.forward(X_batch, training=True)\n",
    "\n",
    "        # Loss and accuracy\n",
    "        loss = loss_function.forward(model.output, y_batch)\n",
    "        predictions = np.round(model.output.squeeze())\n",
    "        accuracy = np.mean(predictions == y_batch.squeeze())\n",
    "\n",
    "        # Backward pass\n",
    "        loss_function.backward(model.output, y_batch)\n",
    "        dvalues = loss_function.dinputs\n",
    "\n",
    "        assert dvalues.shape == model.output.shape, \\\n",
    "            f\"Gradient shape mismatch: {dvalues.shape} vs {model.output.shape}\"\n",
    "\n",
    "        for layer in reversed(model.layers):\n",
    "            layer.backward(dvalues)\n",
    "            dvalues = layer.dinputs\n",
    "\n",
    "            # Regularization\n",
    "            if isinstance(layer, Layer_Dense):\n",
    "                if layer.l1 > 0:\n",
    "                    layer.dweights += layer.l1 * np.sign(layer.weights)\n",
    "                if layer.l2 > 0:\n",
    "                    layer.dweights += 2 * layer.l2 * layer.weights\n",
    "\n",
    "        # Update weights\n",
    "        optimizer.pre_update_params()\n",
    "        for layer in model.layers:\n",
    "            if isinstance(layer, Layer_Dense):\n",
    "                optimizer.update_params(layer)\n",
    "        optimizer.post_update_params()\n",
    "\n",
    "        batch_losses.append(loss)\n",
    "        batch_accuracies.append(accuracy)\n",
    "\n",
    "    # Epoch summary\n",
    "    epoch_loss = np.mean(batch_losses)\n",
    "    epoch_acc = np.mean(batch_accuracies)\n",
    "    train_losses.append(epoch_loss)\n",
    "    train_accuracies.append(epoch_acc)\n",
    "\n",
    "    # Validation\n",
    "    X_val_input = X_val.values if isinstance(X_val, pd.DataFrame) else X_val\n",
    "    y_val_input = y_val.values if isinstance(y_val, (pd.Series, pd.DataFrame)) else y_val\n",
    "\n",
    "    model.forward(X_val_input, training=False)\n",
    "    val_loss = loss_function.forward(model.output, y_val_input)\n",
    "    val_predictions = np.round(model.output.squeeze())\n",
    "    val_accuracy = np.mean(val_predictions == y_val.squeeze())\n",
    "\n",
    "    val_losses.append(val_loss)\n",
    "    val_accuracies.append(val_accuracy)\n",
    "\n",
    "    if epoch % 10 == 0:\n",
    "        print(f\"Epoch {epoch}: \", end=\"\")\n",
    "        print(f\"Train Loss: {epoch_loss:.4f}, Acc: {epoch_acc*100:.2f}% | \", end=\"\")\n",
    "        print(f\"Val Loss: {val_loss:.4f}, Acc: {val_accuracy*100:.2f}%\")\n",
    "\n",
    "    # Early stopping check\n",
    "    early_stopping.on_epoch_end(\n",
    "        current_loss=val_loss,\n",
    "        current_accuracy=val_accuracy,\n",
    "        model=model,\n",
    "        epoch=epoch\n",
    "    )\n",
    "\n",
    "    if early_stopping.stop_training:\n",
    "        print(f\"Early stopping at epoch {epoch}\")\n",
    "        break\n",
    "\n",
    "# Restore best weights\n",
    "if early_stopping.stop_training:\n",
    "    print(f\"Restoring model weights from epoch {early_stopping.best_epoch}\")\n",
    "    early_stopping.restore_weights(model)\n",
    "\n",
    "# Final evaluation\n",
    "model.forward(X_val_input, training=False)\n",
    "final_val_loss = loss_function.forward(model.output, y_val_input)\n",
    "final_val_accuracy = np.mean(np.round(model.output.squeeze()) == y_val.squeeze())\n",
    "print(f\"Final Validation Accuracy: {final_val_accuracy:.4f}\")\n",
    "\n",
    "\n",
    "# Test set evaluation\n",
    "model.forward(X_test, training=False)\n",
    "test_loss = loss_function.forward(model.output.squeeze(), y_test)\n",
    "\n",
    "predictions = np.round(model.output.squeeze())\n",
    "y_true = np.argmax(y_test, axis=1) if y_test.ndim > 1 else y_test\n",
    "test_accuracy = np.mean(predictions == y_true)\n",
    "print(f\"Test Accuracy: {test_accuracy:.4f}\")\n",
    "\n",
    "# Plot training progress\n",
    "plot_accuracies(train_accuracies, val_accuracies, test_accuracy,\n",
    "                label1=\"Training Accuracies\", label2=\"Validation Accuracies\",\n",
    "                title=\"Accuracy Over Epochs\")\n",
    "\n",
    "plot_losses(train_losses, val_losses, test_loss,\n",
    "            label1=\"Training Loss\", label2=\"Validation Loss\",\n",
    "            title=\"Loss Over Epochs\")"
   ]
  },
  {
   "cell_type": "code",
   "execution_count": null,
   "metadata": {},
   "outputs": [
    {
     "name": "stdout",
     "output_type": "stream",
     "text": [
      "[0.29600771049822716, 0.25736314139376304, 0.24062161199299553, 0.23310743097198866, 0.2284371865986754, 0.2253574937478637, 0.22294384542137258, 0.2205165302809892, 0.21828049729513066, 0.2169839563350389, 0.21695676533635183, 0.21785278613478976, 0.21885262504485184, 0.21911474402034997, 0.21836965793990182, 0.21704306488489558, 0.21553979296785586, 0.21385926228608548, 0.2118741849287852, 0.20993992598717065, 0.20810168942308419, 0.20590784460990666, 0.20326005727206678, 0.20036442316546424, 0.19730637042044297, 0.19401190103252045, 0.1905582812346805, 0.18704094762671458, 0.18341912196375926, 0.1796149789540949, 0.1757960046391666, 0.17166196147126972, 0.1669234451639423, 0.16193577019091937, 0.15650021416594884, 0.15079595727259168, 0.1450662846555766, 0.13943468361520445, 0.13401596763373388, 0.12832983679693508, 0.12198483339217268, 0.11471188542325189, 0.10688128605238971, 0.09906022820722615, 0.09058294613029975, 0.08153434902686038, 0.07212594991109327, 0.06353650916084477, 0.05506463976732961, 0.04690933871982451, 0.039095464373483754, 0.03247883539357074, 0.02729174565198217, 0.023368109448076976, 0.020053124491503246, 0.017198432829048673, 0.014689222444705797, 0.012578010576605266, 0.010955854233429712, 0.00980710362143868, 0.009108788572404618, 0.0086691737668195, 0.008390437342606385, 0.008323246095056405, 0.008223507020663596, 0.007910112955558848, 0.007714212342966672, 0.0075745476352522545, 0.007295012193479729, 0.007214918390716174, 0.007237628130776604, 0.00748761599783392, 0.007989792239632035, 0.008107052308580564, 0.008524968025716688, 0.008764193420689273, 0.009232309650504335, 0.009626504226185337, 0.01016176229572426, 0.010368855986496946, 0.01053601016173618, 0.010394312893229618, 0.01031917326640404, 0.010277685449231957, 0.010171155845540786, 0.00993145767227011, 0.009804282644197639, 0.00951392329323609, 0.009113134953503757, 0.008859472119566985, 0.008414059761151105, 0.008026087070723274, 0.00781429871785813, 0.00760699997355865, 0.0074822458318815396, 0.007415307519299546, 0.007158957192914605, 0.007156247573569215, 0.007176944440701861, 0.007084209643780424, 0.007160322129610134, 0.007138235154941493, 0.00701934969752985, 0.007032759824274636, 0.007082753042322397, 0.007059246415300907, 0.00699358379780509, 0.007098655312168392, 0.007087949665712238, 0.006976443464919014, 0.006689134066173069, 0.006628285935996397] [0.288534306696523, 0.3040617285111405, 0.3178039806933289, 0.32560186743175323, 0.3277844770676422, 0.32501288048721083, 0.31807445819058705, 0.30863390186231926, 0.29859983520980454, 0.28985624471493465, 0.2836563933655452, 0.28078996843269344, 0.2810207550015277, 0.28417513302023756, 0.2899006300560235, 0.2968582634293874, 0.3022384062327573, 0.30337042143489956, 0.3013722085744697, 0.2992985286158778, 0.299151910380159, 0.30075329949813395, 0.30269656023366537, 0.3030880036484514, 0.30074954491289124, 0.2965928656978335, 0.2924899569668723, 0.29027148342806786, 0.29051576042912564, 0.29176741560482594, 0.29121470628942797, 0.2890367855601941, 0.28799792446141786, 0.29044690976291954, 0.29549090643451736, 0.30065168032937595, 0.3048668559154565, 0.3088178757898023, 0.3129340215381152, 0.31585331292267016, 0.3154002989541712, 0.311934462393779, 0.3086318033263439, 0.30796388646903944, 0.30814938353053795, 0.3083844816981648, 0.31189020341494994, 0.318988678115585, 0.32797878259960894, 0.3381675375673381, 0.3478154385119048, 0.35637145713840557, 0.3647906425297798, 0.3734474951604414, 0.38128976837480233, 0.38781993344030363, 0.39319079164509274, 0.3976181363346451, 0.4012192528826716, 0.4039440640535855, 0.4060055542676179, 0.40748806663428583, 0.4081077975433317, 0.40864847596643206, 0.40972161387132666, 0.4106842957948246, 0.41097097457578846, 0.4109552013856185, 0.41063955114640055, 0.41075963942630156, 0.4109749434957188, 0.41029409691857854, 0.40863842097346587, 0.40578289261476796, 0.40574544581810545, 0.4067325739843329, 0.4050700033249691, 0.40129357698521667, 0.4004835599141749, 0.40048143118209195, 0.398513465573107, 0.39833559330347657, 0.3987862869573873, 0.39661471192284814, 0.39575470288061276, 0.39551892879700007, 0.3949574802572684, 0.3978860683866036, 0.40171376902232026, 0.40345161967309695, 0.4068282633075225, 0.4096568323341366, 0.4106889533282997, 0.41298090052159736, 0.41443150918415783, 0.41314587605200964, 0.41269991827926733, 0.41450679233338483, 0.4142398994130065, 0.41447341720342457, 0.4154309631500926, 0.4144819196453786, 0.4146310918476856, 0.41566579221596045, 0.41368020349090057, 0.4139793920507941, 0.4141900706992728, 0.4115411225191375, 0.41500121136244295, 0.41396708174902985, 0.4147054948634791, 0.41766193796215006]\n"
     ]
    }
   ],
   "source": [
    "print(train_losses, val_losses)"
   ]
  },
  {
   "cell_type": "code",
   "execution_count": null,
   "metadata": {},
   "outputs": [
    {
     "name": "stdout",
     "output_type": "stream",
     "text": [
      "Test Accuracy: 1.0000\n"
     ]
    }
   ],
   "source": [
    "model.forward(X_test, training=False)\n",
    "# Compute softmax probabilities for the test output\n",
    "# print(X_test.shape, y_test.shape)\n",
    "# print(model.output, y_test)\n",
    "loss_function.forward(model.output.squeeze(), y_test)\n",
    "# Calculate accuracy for the test set\n",
    "predictions = np.round(model.output.squeeze())\n",
    "if len(y_test.shape) == 2:\n",
    "    y_true = np.argmax(y_test, axis=1)\n",
    "else:\n",
    "    y_true = y_test\n",
    "\n",
    "# Compute test accuracy\n",
    "test_accuracy = np.mean(predictions == y_true)\n",
    "print(f\"Test Accuracy: {test_accuracy:.4f}\")"
   ]
  },
  {
   "cell_type": "code",
   "execution_count": null,
   "metadata": {},
   "outputs": [],
   "source": [
    "# class EnsembleNN:\n",
    "#     def __init__(self, n_models=5):\n",
    "#         self.models = []\n",
    "#         self.n_models = n_models\n",
    "#         self.loss_activation = Activation_Softmax_Loss_CategoricalCrossentropy()\n",
    "        \n",
    "            \n",
    "\n",
    "#     def create_and_train_models(self, hyperparams):\n",
    "#         # Create and train multiple models with the same hyperparameters\n",
    "#         for i in range(self.n_models):\n",
    "#             model = NN(\n",
    "#                 l1=l1,\n",
    "#                 l2=l2,\n",
    "#                 input_size=17,\n",
    "#                 hidden_sizes=hidden_size,\n",
    "#                 output_size=1,\n",
    "#                 hidden_activations=hidden_activation,\n",
    "#                 dropout_rates=[dropout_rate],\n",
    "#                 use_batch_norm=use_batch_norm\n",
    "#             )\n",
    "#             print(f\"Training model {i+1}/{self.n_models}\")\n",
    "#             # Train model using existing train_and_evaluate function\n",
    "#             model, val_accuracy = train_and_evaluate(\n",
    "#                 learning_rate=hyperparams['learning_rate'],\n",
    "#                 # l1=hyperparams['l1'],\n",
    "#                 # l2=hyperparams['l2'],\n",
    "#                 # dropout_rate=hyperparams['dropout_rate'],\n",
    "#                 batch_size=hyperparams['batch_size'],\n",
    "#                 n_epochs=hyperparams['n_epochs'],\n",
    "#                 weight_decay=hyperparams['weight_decay'],\n",
    "#                 # model=hyperparams['model']\n",
    "#                 # activation=hyperparams['activation']\n",
    "#                 X_train=X_train,\n",
    "#                 y_train=y_train,\n",
    "#                 X_val=X_val,\n",
    "#                 y_val=y_val,\n",
    "#                 model=model,\n",
    "#             )\n",
    "#             self.models.append(model)\n",
    "#             print(f\"Model {i+1} validation accuracy: {val_accuracy:.4f}\")\n",
    "\n",
    "#     def predict(self, X):\n",
    "#         \"\"\"Make predictions using majority voting\"\"\"\n",
    "#         predictions = []\n",
    "#         for model in self.models:\n",
    "#             model.forward(X, training=False)\n",
    "#             self.loss_activation.forward(\n",
    "#                 model.output, np.zeros((X.shape[0], 2)))  # Dummy y values\n",
    "#             pred = np.argmax(self.loss_activation.output, axis=1)\n",
    "#             predictions.append(pred)\n",
    "\n",
    "#         # Majority voting\n",
    "#         predictions = np.array(predictions)\n",
    "#         final_predictions = np.apply_along_axis(\n",
    "#             lambda x: np.bincount(x).argmax(),\n",
    "#             axis=0,\n",
    "#             arr=predictions\n",
    "#         )\n",
    "#         return final_predictions"
   ]
  },
  {
   "cell_type": "code",
   "execution_count": null,
   "metadata": {},
   "outputs": [],
   "source": [
    "# ensemble = EnsembleNN(n_models=5)\n",
    "\n",
    "# ensemble.create_and_train_models(best_hyperparams)\n",
    "\n",
    "# test_predictions = ensemble.predict(X_test)\n",
    "# test_accuracy = np.mean(test_predictions == y_test)\n",
    "\n",
    "# print(f\"Ensemble Test Accuracy: {test_accuracy:.4f}\")"
   ]
  }
 ],
 "metadata": {
  "kernelspec": {
   "display_name": ".venv",
   "language": "python",
   "name": "python3"
  },
  "language_info": {
   "codemirror_mode": {
    "name": "ipython",
    "version": 3
   },
   "file_extension": ".py",
   "mimetype": "text/x-python",
   "name": "python",
   "nbconvert_exporter": "python",
   "pygments_lexer": "ipython3",
   "version": "3.13.3"
  }
 },
 "nbformat": 4,
 "nbformat_minor": 2
}
