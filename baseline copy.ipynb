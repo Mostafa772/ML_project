{
 "cells": [
  {
   "cell_type": "code",
   "execution_count": 2,
   "metadata": {},
   "outputs": [],
   "source": [
    "%load_ext autoreload\n",
    "%autoreload 2"
   ]
  },
  {
   "cell_type": "code",
   "execution_count": 3,
   "metadata": {},
   "outputs": [],
   "source": [
    "import sys\n",
    "import os\n",
    "\n",
    "# Add the src directory to the Python path\n",
    "src_path = os.path.join(os.getcwd(), 'src')\n",
    "if src_path not in sys.path:\n",
    "    sys.path.append(src_path)"
   ]
  },
  {
   "cell_type": "code",
   "execution_count": 4,
   "metadata": {},
   "outputs": [],
   "source": [
    "import ast\n",
    "import csv\n",
    "import itertools\n",
    "import random\n",
    "from itertools import product\n",
    "import numpy as np\n",
    "import pandas as pd\n",
    "\n",
    "from loss_functions import *\n",
    "from src.activation_functions import *\n",
    "from src.batch_normalization import *\n",
    "from src.data_preprocessing import *\n",
    "from src.ensemble.cascade_correlation import CascadeCorrelation\n",
    "from src.k_fold_cross_validation import *\n",
    "from src.layer import *\n",
    "from src.early_stopping import EarlyStopping\n",
    "from src.neural_network import *\n",
    "from src.optimizers import *\n",
    "from src.random_search import *\n",
    "from src.train_and_evaluate import *\n",
    "from src.utils import *\n",
    "\n",
    "# from src.random_search import *\n",
    "\n",
    "np.random.seed(0)"
   ]
  },
  {
   "cell_type": "markdown",
   "metadata": {},
   "source": [
    "<!-- #### Data pre-processing for MONK Datasets  -->"
   ]
  },
  {
   "cell_type": "code",
   "execution_count": 5,
   "metadata": {},
   "outputs": [
    {
     "name": "stdout",
     "output_type": "stream",
     "text": [
      "one hot encoded data:  (169, 17)\n",
      "one hot encoded data:  (432, 17)\n"
     ]
    }
   ],
   "source": [
    "X_train, y_train = load_data(MONK_NUM=2)\n",
    "X_test, y_test = load_data(MONK_NUM=2, train=False)"
   ]
  },
  {
   "cell_type": "code",
   "execution_count": 6,
   "metadata": {},
   "outputs": [],
   "source": [
    "X_train, X_val = train_test_split(X_train)\n",
    "y_train, y_val = train_test_split(y_train)\n",
    "X_train = np.asarray(X_train)\n",
    "y_train = np.asarray(y_train)\n",
    "X_val = np.asarray(X_val)\n",
    "y_val = np.asarray(y_val)\n",
    "X_test = np.asarray(X_test)\n",
    "y_test = np.asarray(y_test)"
   ]
  },
  {
   "cell_type": "code",
   "execution_count": 7,
   "metadata": {},
   "outputs": [
    {
     "name": "stdout",
     "output_type": "stream",
     "text": [
      "Training set size: 135\n",
      "Validation set size: 34\n"
     ]
    }
   ],
   "source": [
    "print(\"Training set size:\", len(X_train))\n",
    "print(\"Validation set size:\", len(X_val))"
   ]
  },
  {
   "cell_type": "code",
   "execution_count": 8,
   "metadata": {},
   "outputs": [
    {
     "name": "stdout",
     "output_type": "stream",
     "text": [
      "the shape:  (135, 17)\n",
      "the shape:  (34, 17)\n",
      "the shape:  (135, 1)\n",
      "the shape:  (34, 1)\n"
     ]
    }
   ],
   "source": [
    "# Print the shape of the resulting datasets\n",
    "for _ in [X_train, X_val, y_train, y_val]:\n",
    "    print(f\"the shape: \", _.shape)"
   ]
  },
  {
   "cell_type": "code",
   "execution_count": null,
   "metadata": {},
   "outputs": [],
   "source": [
    "param_distributions = {\n",
    "    'hidden_size': [[3], [4], [5], [6]],\n",
    "    'hidden_activation': [[Activation_Tanh], [Activation_Leaky_ReLU], [Activation_Sigmoid], [Activation_ReLU]],\n",
    "    'batch_norm': [[True], [False]],\n",
    "    'learning_rate': np.logspace(-3, -1, num=20).tolist(),\n",
    "    'l1': np.logspace(-5, -1, num=10).tolist(),\n",
    "    'l2': np.logspace(-5, -1, num=10).tolist(),\n",
    "    'dropout_rate': np.logspace(-5, -1, num=10).tolist(),\n",
    "    'batch_size': [8, 16, 32],\n",
    "    'n_epochs': [50,100],\n",
    "    'weight_decay': [0, 5e-2, 1e-2, 1e-3, 1e-5],\n",
    "    'patience': [10, 30, 50]\n",
    "}"
   ]
  },
  {
   "cell_type": "markdown",
   "metadata": {},
   "source": [
    "TODO:\n",
    "\n",
    "Create a seperate best_results csv file for each MONK "
   ]
  },
  {
   "cell_type": "code",
   "execution_count": 12,
   "metadata": {},
   "outputs": [
    {
     "name": "stdout",
     "output_type": "stream",
     "text": [
      "[3] [<class 'src.activation_functions.Activation_Sigmoid'>] [10] [False]\n"
     ]
    },
    {
     "ename": "NameError",
     "evalue": "name 'train_and_evaluate' is not defined",
     "output_type": "error",
     "traceback": [
      "\u001b[1;31m---------------------------------------------------------------------------\u001b[0m",
      "\u001b[1;31mNameError\u001b[0m                                 Traceback (most recent call last)",
      "Cell \u001b[1;32mIn[12], line 1\u001b[0m\n\u001b[1;32m----> 1\u001b[0m best_hyperparams, best_performance \u001b[38;5;241m=\u001b[39m \u001b[43mrandom_search\u001b[49m\u001b[43m(\u001b[49m\u001b[43mX_train\u001b[49m\u001b[38;5;241;43m=\u001b[39;49m\u001b[43mX_train\u001b[49m\u001b[43m,\u001b[49m\n\u001b[0;32m      2\u001b[0m \u001b[43m                                                   \u001b[49m\u001b[43my_train\u001b[49m\u001b[38;5;241;43m=\u001b[39;49m\u001b[43my_train\u001b[49m\u001b[43m,\u001b[49m\n\u001b[0;32m      3\u001b[0m \u001b[43m                                                   \u001b[49m\u001b[43mparam_distributions\u001b[49m\u001b[38;5;241;43m=\u001b[39;49m\u001b[43mparam_distributions\u001b[49m\u001b[43m,\u001b[49m\n\u001b[0;32m      4\u001b[0m \u001b[43m                                                   \u001b[49m\u001b[43mn_iters\u001b[49m\u001b[38;5;241;43m=\u001b[39;49m\u001b[38;5;241;43m100\u001b[39;49m\u001b[43m)\u001b[49m  \u001b[38;5;66;03m# adjust n_iters as needed\u001b[39;00m\n\u001b[0;32m      6\u001b[0m \u001b[38;5;28mprint\u001b[39m(best_hyperparams)\n",
      "File \u001b[1;32mc:\\Users\\Mostafa\\Desktop\\first_year_Pisa\\Semester_1\\ML\\project_implementation\\ML_project\\src\\random_search.py:48\u001b[0m, in \u001b[0;36mrandom_search\u001b[1;34m(X_train, y_train, param_distributions, n_iters, csv_path)\u001b[0m\n\u001b[0;32m     33\u001b[0m params \u001b[38;5;241m=\u001b[39m {\n\u001b[0;32m     34\u001b[0m     \u001b[38;5;124m'\u001b[39m\u001b[38;5;124mlearning_rate\u001b[39m\u001b[38;5;124m'\u001b[39m: random\u001b[38;5;241m.\u001b[39mchoice(param_distributions[\u001b[38;5;124m'\u001b[39m\u001b[38;5;124mlearning_rate\u001b[39m\u001b[38;5;124m'\u001b[39m]),\n\u001b[0;32m     35\u001b[0m     \u001b[38;5;124m'\u001b[39m\u001b[38;5;124ml1\u001b[39m\u001b[38;5;124m'\u001b[39m: random\u001b[38;5;241m.\u001b[39mchoice(param_distributions[\u001b[38;5;124m'\u001b[39m\u001b[38;5;124ml1\u001b[39m\u001b[38;5;124m'\u001b[39m]),\n\u001b[1;32m   (...)\u001b[0m\n\u001b[0;32m     44\u001b[0m     \u001b[38;5;124m'\u001b[39m\u001b[38;5;124mpatience\u001b[39m\u001b[38;5;124m'\u001b[39m: random\u001b[38;5;241m.\u001b[39mchoice(param_distributions[\u001b[38;5;124m'\u001b[39m\u001b[38;5;124mpatience\u001b[39m\u001b[38;5;124m'\u001b[39m])            \n\u001b[0;32m     45\u001b[0m }\n\u001b[0;32m     47\u001b[0m \u001b[38;5;66;03m# Train and evaluate the model\u001b[39;00m\n\u001b[1;32m---> 48\u001b[0m _, val_accuracy \u001b[38;5;241m=\u001b[39m \u001b[43mk_fold_cross_validation_manual\u001b[49m\u001b[43m(\u001b[49m\u001b[43mX\u001b[49m\u001b[38;5;241;43m=\u001b[39;49m\u001b[43mX_train\u001b[49m\u001b[43m,\u001b[49m\u001b[43m \u001b[49m\u001b[43my\u001b[49m\u001b[38;5;241;43m=\u001b[39;49m\u001b[43my_train\u001b[49m\u001b[43m,\u001b[49m\u001b[43m \u001b[49m\u001b[43ml1\u001b[49m\u001b[38;5;241;43m=\u001b[39;49m\u001b[43mparams\u001b[49m\u001b[43m[\u001b[49m\u001b[38;5;124;43m\"\u001b[39;49m\u001b[38;5;124;43ml1\u001b[39;49m\u001b[38;5;124;43m\"\u001b[39;49m\u001b[43m]\u001b[49m\u001b[43m,\u001b[49m\u001b[43m \u001b[49m\u001b[43ml2\u001b[49m\u001b[38;5;241;43m=\u001b[39;49m\u001b[43mparams\u001b[49m\u001b[43m[\u001b[49m\u001b[38;5;124;43m\"\u001b[39;49m\u001b[38;5;124;43ml2\u001b[39;49m\u001b[38;5;124;43m\"\u001b[39;49m\u001b[43m]\u001b[49m\u001b[43m,\u001b[49m\n\u001b[0;32m     49\u001b[0m \u001b[43m                            \u001b[49m\u001b[43mhidden_size\u001b[49m\u001b[38;5;241;43m=\u001b[39;49m\u001b[43mparams\u001b[49m\u001b[43m[\u001b[49m\u001b[38;5;124;43m\"\u001b[39;49m\u001b[38;5;124;43mhidden_size\u001b[39;49m\u001b[38;5;124;43m\"\u001b[39;49m\u001b[43m]\u001b[49m\u001b[43m,\u001b[49m\n\u001b[0;32m     50\u001b[0m \u001b[43m                            \u001b[49m\u001b[43mhidden_activation\u001b[49m\u001b[38;5;241;43m=\u001b[39;49m\u001b[43mparams\u001b[49m\u001b[43m[\u001b[49m\u001b[38;5;124;43m\"\u001b[39;49m\u001b[38;5;124;43mhidden_activation\u001b[39;49m\u001b[38;5;124;43m\"\u001b[39;49m\u001b[43m]\u001b[49m\u001b[43m,\u001b[49m\n\u001b[0;32m     51\u001b[0m \u001b[43m                            \u001b[49m\u001b[43mdropout_rate\u001b[49m\u001b[38;5;241;43m=\u001b[39;49m\u001b[43mparams\u001b[49m\u001b[43m[\u001b[49m\u001b[38;5;124;43m\"\u001b[39;49m\u001b[38;5;124;43mdropout_rate\u001b[39;49m\u001b[38;5;124;43m\"\u001b[39;49m\u001b[43m]\u001b[49m\u001b[43m,\u001b[49m\n\u001b[0;32m     52\u001b[0m \u001b[43m                            \u001b[49m\u001b[43muse_batch_norm\u001b[49m\u001b[38;5;241;43m=\u001b[39;49m\u001b[43mparams\u001b[49m\u001b[43m[\u001b[49m\u001b[38;5;124;43m\"\u001b[39;49m\u001b[38;5;124;43mbatch_norm\u001b[39;49m\u001b[38;5;124;43m\"\u001b[39;49m\u001b[43m]\u001b[49m\u001b[43m,\u001b[49m\u001b[43m \u001b[49m\n\u001b[0;32m     53\u001b[0m \u001b[43m                            \u001b[49m\u001b[43mlearning_rate\u001b[49m\u001b[38;5;241;43m=\u001b[39;49m\u001b[43mparams\u001b[49m\u001b[43m[\u001b[49m\u001b[38;5;124;43m\"\u001b[39;49m\u001b[38;5;124;43mlearning_rate\u001b[39;49m\u001b[38;5;124;43m\"\u001b[39;49m\u001b[43m]\u001b[49m\u001b[43m,\u001b[49m\n\u001b[0;32m     54\u001b[0m \u001b[43m                            \u001b[49m\u001b[43mn_epochs\u001b[49m\u001b[38;5;241;43m=\u001b[39;49m\u001b[43mparams\u001b[49m\u001b[43m[\u001b[49m\u001b[38;5;124;43m\"\u001b[39;49m\u001b[38;5;124;43mn_epochs\u001b[39;49m\u001b[38;5;124;43m\"\u001b[39;49m\u001b[43m]\u001b[49m\u001b[43m,\u001b[49m\n\u001b[0;32m     55\u001b[0m \u001b[43m                            \u001b[49m\u001b[43mbatch_size\u001b[49m\u001b[38;5;241;43m=\u001b[39;49m\u001b[43mparams\u001b[49m\u001b[43m[\u001b[49m\u001b[38;5;124;43m\"\u001b[39;49m\u001b[38;5;124;43mbatch_size\u001b[39;49m\u001b[38;5;124;43m\"\u001b[39;49m\u001b[43m]\u001b[49m\u001b[43m,\u001b[49m\n\u001b[0;32m     56\u001b[0m \u001b[43m                            \u001b[49m\u001b[43mweight_decay\u001b[49m\u001b[38;5;241;43m=\u001b[39;49m\u001b[43mparams\u001b[49m\u001b[43m[\u001b[49m\u001b[38;5;124;43m\"\u001b[39;49m\u001b[38;5;124;43mweight_decay\u001b[39;49m\u001b[38;5;124;43m\"\u001b[39;49m\u001b[43m]\u001b[49m\u001b[43m,\u001b[49m\n\u001b[0;32m     57\u001b[0m \u001b[43m                            \u001b[49m\u001b[43mpatience\u001b[49m\u001b[38;5;241;43m=\u001b[39;49m\u001b[43mparams\u001b[49m\u001b[43m[\u001b[49m\u001b[38;5;124;43m\"\u001b[39;49m\u001b[38;5;124;43mpatience\u001b[39;49m\u001b[38;5;124;43m\"\u001b[39;49m\u001b[43m]\u001b[49m\u001b[43m,\u001b[49m\n\u001b[0;32m     58\u001b[0m \u001b[43m                            \u001b[49m\u001b[43mk\u001b[49m\u001b[38;5;241;43m=\u001b[39;49m\u001b[38;5;241;43m5\u001b[39;49m\u001b[43m,\u001b[49m\u001b[43m \u001b[49m\u001b[43mseed\u001b[49m\u001b[38;5;241;43m=\u001b[39;49m\u001b[38;5;241;43m42\u001b[39;49m\u001b[43m)\u001b[49m\n\u001b[0;32m     60\u001b[0m \u001b[38;5;66;03m# Save the result\u001b[39;00m\n\u001b[0;32m     61\u001b[0m result \u001b[38;5;241m=\u001b[39m params\u001b[38;5;241m.\u001b[39mcopy()\n",
      "File \u001b[1;32mc:\\Users\\Mostafa\\Desktop\\first_year_Pisa\\Semester_1\\ML\\project_implementation\\ML_project\\src\\k_fold_cross_validation.py:37\u001b[0m, in \u001b[0;36mk_fold_cross_validation_manual\u001b[1;34m(X, y, l1, l2, hidden_size, hidden_activation, dropout_rate, use_batch_norm, learning_rate, n_epochs, batch_size, weight_decay, patience, k, seed)\u001b[0m\n\u001b[0;32m     24\u001b[0m X_val, y_val \u001b[38;5;241m=\u001b[39m X[val_indices], y[val_indices]\n\u001b[0;32m     26\u001b[0m model \u001b[38;5;241m=\u001b[39m NN(\n\u001b[0;32m     27\u001b[0m     l1\u001b[38;5;241m=\u001b[39ml1,\n\u001b[0;32m     28\u001b[0m     l2\u001b[38;5;241m=\u001b[39ml2,\n\u001b[1;32m   (...)\u001b[0m\n\u001b[0;32m     34\u001b[0m     use_batch_norm\u001b[38;5;241m=\u001b[39muse_batch_norm\n\u001b[0;32m     35\u001b[0m )\n\u001b[1;32m---> 37\u001b[0m _, val_acc \u001b[38;5;241m=\u001b[39m \u001b[43mtrain_and_evaluate\u001b[49m(X_train, y_train, X_val, y_val,\n\u001b[0;32m     38\u001b[0m                                 learning_rate\u001b[38;5;241m=\u001b[39mlearning_rate,\n\u001b[0;32m     39\u001b[0m                                 n_epochs\u001b[38;5;241m=\u001b[39mn_epochs, batch_size\u001b[38;5;241m=\u001b[39mbatch_size,\n\u001b[0;32m     40\u001b[0m                                 weight_decay\u001b[38;5;241m=\u001b[39mweight_decay, patience\u001b[38;5;241m=\u001b[39mpatience,\n\u001b[0;32m     41\u001b[0m                                 model\u001b[38;5;241m=\u001b[39mmodel)\n\u001b[0;32m     43\u001b[0m val_accuracies\u001b[38;5;241m.\u001b[39mappend(val_acc)\n\u001b[0;32m     44\u001b[0m \u001b[38;5;28mprint\u001b[39m(\u001b[38;5;124mf\u001b[39m\u001b[38;5;124m\"\u001b[39m\u001b[38;5;124m✅ Fold \u001b[39m\u001b[38;5;132;01m{\u001b[39;00mfold\u001b[38;5;241m+\u001b[39m\u001b[38;5;241m1\u001b[39m\u001b[38;5;132;01m}\u001b[39;00m\u001b[38;5;124m/\u001b[39m\u001b[38;5;132;01m{\u001b[39;00mk\u001b[38;5;132;01m}\u001b[39;00m\u001b[38;5;124m | Validation Accuracy: \u001b[39m\u001b[38;5;132;01m{\u001b[39;00mval_acc\u001b[38;5;132;01m:\u001b[39;00m\u001b[38;5;124m.4f\u001b[39m\u001b[38;5;132;01m}\u001b[39;00m\u001b[38;5;124m\"\u001b[39m)\n",
      "\u001b[1;31mNameError\u001b[0m: name 'train_and_evaluate' is not defined"
     ]
    }
   ],
   "source": [
    "best_hyperparams, best_performance = random_search(X_train=X_train,\n",
    "                                                   y_train=y_train,\n",
    "                                                   param_distributions=param_distributions,\n",
    "                                                   n_iters=100)  # adjust n_iters as needed\n",
    "\n",
    "print(best_hyperparams)"
   ]
  },
  {
   "cell_type": "code",
   "execution_count": null,
   "metadata": {},
   "outputs": [
    {
     "name": "stdout",
     "output_type": "stream",
     "text": [
      "{'learning_rate': 0.1, 'l1': 1e-05, 'l2': 0.001, 'dropout_rate': 0.1, 'batch_size': 16, 'n_epochs': 50, 'hidden_size': [6], 'hidden_activation': ['Activation_Tanh'], 'batch_norm': [False], 'weight_decay': 0.01, 'patience': 30, 'val_accuracy': 1.0}\n"
     ]
    }
   ],
   "source": [
    "learning_rate, l1, l2, dropout_rate, batch_size, n_epochs, hidden_size, hidden_activation, use_batch_norm, weight_decay, patience, validation_accuracy = best_hyperparams.values()\n",
    "print(best_hyperparams)"
   ]
  },
  {
   "cell_type": "markdown",
   "metadata": {},
   "source": [
    "GRID SEARCH"
   ]
  },
  {
   "cell_type": "code",
   "execution_count": 92,
   "metadata": {},
   "outputs": [],
   "source": [
    "activation_map = {\n",
    "    'Activation_ReLU': Activation_ReLU,\n",
    "    'Activation_Tanh': Activation_Tanh,\n",
    "    'Activation_ELU': Activation_ELU,\n",
    "    'Activation_Leaky_ReLU': Activation_Leaky_ReLU,\n",
    "    'Activation_Sigmoid': Activation_Sigmoid\n",
    "}\n",
    "\n",
    "hidden_activation = [activation_map[act] for act in hidden_activation]  "
   ]
  },
  {
   "cell_type": "code",
   "execution_count": 93,
   "metadata": {},
   "outputs": [
    {
     "name": "stdout",
     "output_type": "stream",
     "text": [
      "[6] [<class 'src.activation_functions.Activation_Tanh'>] [0.1] [False]\n"
     ]
    }
   ],
   "source": [
    "\n",
    "model = NN(\n",
    "    l1=l1,\n",
    "    l2=l2,\n",
    "    input_size=17,\n",
    "    hidden_sizes=hidden_size,\n",
    "    output_size=1,\n",
    "    hidden_activations=hidden_activation,\n",
    "    dropout_rates=[dropout_rate],\n",
    "    use_batch_norm=use_batch_norm\n",
    ")\n",
    "# model = CascadeCorrelation(input_size = 17, output_size= 1, activation=Activation_Leaky_ReLU,\n",
    "#                            output_activation = Activation_Sigmoid)\n",
    "batch_size = batch_size\n",
    "learning_rate = learning_rate\n",
    "n_epochs = n_epochs"
   ]
  },
  {
   "cell_type": "code",
   "execution_count": 94,
   "metadata": {},
   "outputs": [
    {
     "name": "stdout",
     "output_type": "stream",
     "text": [
      "Data shapes:\n",
      "X_train: (135, 17), y_train: (135, 1)\n",
      "Hyperparams: {'learning_rate': 0.1, 'l1': 1e-05, 'l2': 0.001, 'dropout_rate': 0.1, 'batch_size': 16, 'n_epochs': 50, 'hidden_size': [6], 'hidden_activation': ['Activation_Tanh'], 'batch_norm': [False], 'weight_decay': 0.01, 'patience': 30, 'val_accuracy': 1.0}\n",
      "Epoch 0: Train Loss: 0.3512, Acc: 56.85% | Val Loss: 0.3517, Acc: 55.88%\n",
      "Epoch 10: Train Loss: 0.0845, Acc: 92.16% | Val Loss: 0.0770, Acc: 100.00%\n",
      "Epoch 20: Train Loss: 0.0412, Acc: 96.53% | Val Loss: 0.0271, Acc: 100.00%\n",
      "Epoch 30: Train Loss: 0.0473, Acc: 94.25% | Val Loss: 0.0227, Acc: 100.00%\n",
      "Epoch 40: Train Loss: 0.0616, Acc: 91.47% | Val Loss: 0.0149, Acc: 100.00%\n",
      "Final Validation Accuracy: 1.0000\n",
      "Test Accuracy: 1.0000\n",
      "[0. 0. 0. 0. 0. 0. 0. 0. 0. 0.] [0 0 0 0 0 0 0 0 0 0]\n"
     ]
    },
    {
     "data": {
      "image/png": "[encoded data removed]",
      "text/plain": [
       "<Figure size 576x432 with 1 Axes>"
      ]
     },
     "metadata": {
      "needs_background": "light"
     },
     "output_type": "display_data"
    },
    {
     "data": {
      "image/png": "[encoded data removed]",
      "text/plain": [
       "<Figure size 576x432 with 1 Axes>"
      ]
     },
     "metadata": {
      "needs_background": "light"
     },
     "output_type": "display_data"
    }
   ],
   "source": [
    "import copy\n",
    "\n",
    "train_losses = []\n",
    "train_accuracies = []\n",
    "val_losses = []\n",
    "val_accuracies = []\n",
    "\n",
    "loss_function = MSE()\n",
    "optimizer = Optimizer_Adam(learning_rate=learning_rate, decay=weight_decay)\n",
    "\n",
    "# Initialize early stopping\n",
    "early_stopping = EarlyStopping(patience=30, min_delta_loss=1e-5, min_delta_accuracy=0.001)\n",
    "\n",
    "# Before training loop:\n",
    "print(\"Data shapes:\")\n",
    "print(f\"X_train: {X_train.shape}, y_train: {y_train.shape}\")\n",
    "print(f\"Hyperparams: {best_hyperparams}\")\n",
    "# print(f\"Sample prediction: {model.forward(X_train[:1])}\")\n",
    "# print(f\"Initial loss: {loss_function.forward(model.output, y_train[:1])}\")\n",
    "\n",
    "# Training loop\n",
    "for epoch in range(n_epochs):\n",
    "    batch_losses = []\n",
    "    batch_accuracies = []\n",
    "\n",
    "    for X_batch, y_batch in create_batches(X_train, y_train, batch_size):\n",
    "        # Forward pass\n",
    "        model.forward(X_batch, training=True)\n",
    "\n",
    "        # Loss and accuracy\n",
    "        loss = loss_function.forward(model.output, y_batch)\n",
    "        predictions = np.round(model.output.squeeze())\n",
    "        accuracy = np.mean(predictions == y_batch.squeeze())\n",
    "\n",
    "        # Backward pass\n",
    "        loss_function.backward(model.output, y_batch)\n",
    "        dvalues = loss_function.dinputs\n",
    "\n",
    "        assert dvalues.shape == model.output.shape, \\\n",
    "            f\"Gradient shape mismatch: {dvalues.shape} vs {model.output.shape}\"\n",
    "        \n",
    "        i = 0\n",
    "        for layer in reversed(model.layers):\n",
    "            i=-1\n",
    "            layer.backward(dvalues)\n",
    "            dvalues = np.array(layer.dinputs)\n",
    "\n",
    "        # Update weights\n",
    "        optimizer.pre_update_params()\n",
    "        for layer in model.layers:\n",
    "            if isinstance(layer, Layer_Dense):\n",
    "                optimizer.update_params(layer)\n",
    "        optimizer.post_update_params()\n",
    "\n",
    "        batch_losses.append(loss)\n",
    "        batch_accuracies.append(accuracy)\n",
    "\n",
    "    # Epoch summary\n",
    "    epoch_loss = np.mean(batch_losses)\n",
    "    epoch_acc = np.mean(batch_accuracies)\n",
    "    train_losses.append(epoch_loss)\n",
    "    train_accuracies.append(epoch_acc)\n",
    "\n",
    "    # Validation\n",
    "    X_val_input = X_val.values if isinstance(X_val, pd.DataFrame) else X_val\n",
    "    y_val_input = y_val.values if isinstance(y_val, (pd.Series, pd.DataFrame)) else y_val\n",
    "\n",
    "    model.forward(X_val_input, training=False)\n",
    "    val_loss = loss_function.forward(model.output, y_val_input)\n",
    "    val_predictions = np.round(model.output.squeeze())\n",
    "    val_accuracy = np.mean(val_predictions == y_val.squeeze())\n",
    "\n",
    "    val_losses.append(val_loss)\n",
    "    val_accuracies.append(val_accuracy)\n",
    "\n",
    "    if epoch % 10 == 0:\n",
    "        print(f\"Epoch {epoch}: \", end=\"\")\n",
    "        print(f\"Train Loss: {epoch_loss:.4f}, Acc: {epoch_acc*100:.2f}% | \", end=\"\")\n",
    "        print(f\"Val Loss: {val_loss:.4f}, Acc: {val_accuracy*100:.2f}%\")\n",
    "\n",
    "    # Early stopping check\n",
    "    early_stopping.on_epoch_end(\n",
    "        current_loss=val_loss,\n",
    "        current_accuracy=val_accuracy,\n",
    "        model=model,\n",
    "        epoch=epoch\n",
    "    )\n",
    "\n",
    "    if early_stopping.stop_training:\n",
    "        print(f\"Early stopping at epoch {epoch}\")\n",
    "        # Restore best weights\n",
    "        print(f\"Restoring model weights from epoch {early_stopping.best_epoch}\")\n",
    "        early_stopping.restore_weights(model)\n",
    "        # Cascade correlation\n",
    "        if isinstance(model, CascadeCorrelation):\n",
    "            if model.is_limit_reached():\n",
    "                break\n",
    "            \n",
    "            model.add_neuron()\n",
    "            early_stopping.wait = 0\n",
    "            early_stopping.patience -= int(early_stopping.patience / 10)\n",
    "            early_stopping.stop_training = False\n",
    "            print(f\"Added new neuron at epoch {epoch} wiht val_loss {val_losses[-1]:.4f}\")\n",
    "            continue\n",
    "        break\n",
    "\n",
    "# Final evaluation\n",
    "model.forward(X_val_input, training=False)\n",
    "final_val_loss = loss_function.forward(model.output, y_val_input)\n",
    "final_val_accuracy = np.mean(np.round(model.output.squeeze()) == y_val.squeeze())\n",
    "print(f\"Final Validation Accuracy: {final_val_accuracy:.4f}\")\n",
    "\n",
    "\n",
    "# Test set evaluation\n",
    "model.forward(X_test, training=False)\n",
    "test_loss = loss_function.forward(model.output.squeeze(), y_test)\n",
    "\n",
    "predictions = np.round(model.output.squeeze())\n",
    "# y_true = np.argmax(y_test, axis=1) if y_test.ndim > 1 else y_test\n",
    "test_accuracy = np.mean(predictions == y_test.squeeze())\n",
    "print(f\"Test Accuracy: {test_accuracy:.4f}\")\n",
    "print(predictions[:10].squeeze(), y_test[:10].squeeze())\n",
    "# Plot training progress\n",
    "plot_losses(train_losses, val_losses, test_loss,\n",
    "            label1=\"Training Loss\", label2=\"Validation Loss\",\n",
    "            title=\"Loss Over Epochs\")\n",
    "\n",
    "plot_accuracies(train_accuracies, val_accuracies, test_accuracy,\n",
    "                label1=\"Training Accuracies\", label2=\"Validation Accuracies\",\n",
    "                title=\"Accuracy Over Epochs\")"
   ]
  },
  {
   "cell_type": "code",
   "execution_count": 50,
   "metadata": {},
   "outputs": [
    {
     "name": "stdout",
     "output_type": "stream",
     "text": [
      "[0.40356761691883963, 0.4074505507314593, 0.38688989226683745, 0.38873341162437297, 0.40287387476636854, 0.394926614964496, 0.39420222361911955, 0.4090541249441436, 0.3954232743836196, 0.3871263055765686, 0.3911154611006437, 0.4006124760938085, 0.3839421918413699, 0.39106422205462776, 0.3963231848923907, 0.36513323374947826, 0.3943874286642242, 0.39415687854837, 0.36289991219665463, 0.3654686283871002, 0.3604329133162796, 0.31864912954186864, 0.3117621572717445, 0.29856034501013895, 0.2966446358932457, 0.2849224949680508, 0.29645895604825445, 0.28970564898778217, 0.2760915311648665, 0.27313495080266537, 0.2804907276759642, 0.26650504396094615, 0.28155310608838413, 0.26067101863623793, 0.2777449170322392, 0.2578465295738168, 0.25759022671215065, 0.2616280634624337, 0.25873639742959564, 0.2581004482640727, 0.2512723937394454, 0.2486801888444448, 0.25005295617385237, 0.2568275047711346, 0.24288308609700682, 0.2527098971804654, 0.24720765607161727, 0.24993462949010123, 0.25907956916857694, 0.23194364832071715, 0.2429235362185043, 0.23556131598097935, 0.23325902743755955, 0.23740399816269545, 0.2292328215716222, 0.23511838387725184, 0.22429089493070953, 0.23198367437275472, 0.22293225079061804, 0.22568853695110822, 0.2376920494375552, 0.21756694045413721, 0.23458269635517037, 0.21845905179333697, 0.22833480875936008, 0.2260894193757818, 0.2161610155439267, 0.21764400934002323, 0.22915659971395191, 0.22077651940107035, 0.22897166111198464, 0.22760411424009522, 0.22459615419831794, 0.21160868876347502, 0.2135362630781566, 0.22819595115677277, 0.21994091148338515, 0.20725198472174922, 0.20791270008328497, 0.20421165065476404, 0.21734794135626567, 0.2047720527999182, 0.21712552823026393, 0.20384712241940045, 0.21376623332609748, 0.20066485047138502, 0.20882046013714642, 0.21076461380527595, 0.19582897023296056, 0.20556828448267933, 0.19351927391308563, 0.2039042653163397, 0.20249260172317357, 0.19333003200792293, 0.19799519072962246, 0.20175690139626584, 0.19229021528273652, 0.19501355265011397, 0.2027371868857981, 0.19166798621789558, 0.20022170619512134, 0.1993651649607426, 0.18561501554000726, 0.18601070431347033, 0.18527909255273362, 0.19376186956712596, 0.19524652941446524, 0.19620691229039328, 0.18189536688362468, 0.20156049700068077, 0.19555631055397676, 0.1886706427817433, 0.19588124206334076, 0.19904249233813015, 0.17916677922580546, 0.1772260396280734, 0.18789657027493248, 0.18495184462720962, 0.1786473417732227, 0.18071948817309036, 0.1773837168251341, 0.17224481662023894, 0.18426291176685375, 0.17703088475220843, 0.18087401360485594, 0.1702019054964154, 0.1780820279507151, 0.17351897923447934, 0.1807527613782264, 0.17724661290893906, 0.1799521211315006, 0.17954839621643737, 0.16669918729667435, 0.16546268477957987, 0.16827799198702312, 0.16689656209647255, 0.16468320613726337, 0.16883241197515111, 0.1627329840510425, 0.16292971567689815, 0.16506098440198227, 0.17285573209835986, 0.16420052469928384, 0.1589074359394353, 0.1604040330295812, 0.16549476153831225, 0.1602800802195881, 0.16874802120882262, 0.16017496408183993, 0.15734778125052187] [0.4189635934300291, 0.41835397268631647, 0.4179509509459216, 0.4174897547021416, 0.41713535821058434, 0.4169676659726397, 0.41702570835562564, 0.41705701457417377, 0.4170236267839429, 0.4167022265095283, 0.41644145464333976, 0.41674932179258223, 0.41666214228676046, 0.41675366095544936, 0.4170426610879401, 0.41687580621140946, 0.4169292100233081, 0.4174368273966342, 0.4176084994080206, 0.4178511659705986, 0.41795981973553337, 0.29097179242756066, 0.2837644148433698, 0.2771673077950913, 0.2735554862781075, 0.2694651519041936, 0.26547311317168254, 0.26341333462869837, 0.2621580084322637, 0.25981197309923554, 0.2579645840521179, 0.2566032246823506, 0.25497041628958644, 0.25324368603718206, 0.25094349981280356, 0.2495514653426725, 0.24827387629139444, 0.246404060132767, 0.24484731705846982, 0.2431305897375404, 0.24207132116069602, 0.240752141066911, 0.23974528609676884, 0.23856668575625847, 0.23706527195226684, 0.23585960413127932, 0.23482922891132688, 0.23336316945980076, 0.23282020067913856, 0.23178981659174658, 0.23088360128257596, 0.22948272818115822, 0.22869401406767498, 0.22800644370237053, 0.22735049565333643, 0.22661706968626372, 0.22606675024928063, 0.22541155440059285, 0.22474083789332805, 0.22372067741786553, 0.22349411868447253, 0.22268801184994336, 0.22208012182316114, 0.22126796830257572, 0.22066754339997444, 0.2198542039275878, 0.21900983906438426, 0.21873232023481612, 0.21818452949254116, 0.21743677509797443, 0.21696280506368926, 0.21635840333159537, 0.215498250340887, 0.21477065724668892, 0.21408421919684348, 0.2133931881562611, 0.21305627655914897, 0.21245006632020363, 0.21230428859111336, 0.21138213792806787, 0.21106550097157722, 0.2103467334996398, 0.2100800241961793, 0.2090898095492353, 0.20889037114401116, 0.2083588397998105, 0.20779880134018586, 0.20719023659976898, 0.206503660469395, 0.20647025293930607, 0.2059872934185338, 0.20547917148878114, 0.20480211319875527, 0.20428968223170943, 0.20392093660287497, 0.20349812705260362, 0.20296009286825484, 0.20286803318498317, 0.20171094009827734, 0.20130905357990347, 0.20099876564660413, 0.20023606447853529, 0.19935915724899936, 0.19865429676568525, 0.1980304273796509, 0.1973470944152918, 0.19681775094148807, 0.19595944499985843, 0.19517604347088477, 0.19406427254373157, 0.192990190833344, 0.19179359542927688, 0.19101856941379278, 0.19045882507169776, 0.1894198225465924, 0.1886075401326438, 0.1876091680222839, 0.1865689068926898, 0.1859026755424672, 0.18484201711491713, 0.18465425229282445, 0.18358980172322795, 0.18282667437347286, 0.18189481588535986, 0.18102104756097537, 0.18000685852090711, 0.1792177765660138, 0.17829669534544185, 0.17784918005826078, 0.17663156572630867, 0.1760777127332538, 0.17525627985755027, 0.1744293848299562, 0.17400322257710177, 0.17367121714088646, 0.17318474159602917, 0.17255004973918062, 0.17193161595856452, 0.17092001688376438, 0.17033612450059635, 0.16971644618088294, 0.16979772699062984, 0.16941703103817615, 0.16862144353928826, 0.16841517855176075, 0.16827918162149133, 0.16786057982112088, 0.16740970760139526, 0.16700328880745335, 0.16697899225860138]\n"
     ]
    }
   ],
   "source": [
    "print(train_losses, val_losses)"
   ]
  },
  {
   "cell_type": "code",
   "execution_count": 51,
   "metadata": {},
   "outputs": [
    {
     "name": "stdout",
     "output_type": "stream",
     "text": [
      "Test Accuracy: 0.5347\n"
     ]
    }
   ],
   "source": [
    "model.forward(X_test, training=False)\n",
    "# Compute softmax probabilities for the test output\n",
    "# print(X_test.shape, y_test.shape)\n",
    "# print(model.output, y_test)\n",
    "loss_function.forward(model.output.squeeze(), y_test)\n",
    "# Calculate accuracy for the test set\n",
    "predictions = np.round(model.output.squeeze())\n",
    "if len(y_test.shape) == 2:\n",
    "    y_true = np.argmax(y_test, axis=1)\n",
    "else:\n",
    "    y_true = y_test\n",
    "\n",
    "# Compute test accuracy\n",
    "test_accuracy = np.mean(predictions == y_true)\n",
    "print(f\"Test Accuracy: {test_accuracy:.4f}\")"
   ]
  },
  {
   "cell_type": "code",
   "execution_count": 32,
   "metadata": {},
   "outputs": [],
   "source": [
    "# class EnsembleNN:\n",
    "#     def __init__(self, n_models=5):\n",
    "#         self.models = []\n",
    "#         self.n_models = n_models\n",
    "#         self.loss_activation = Activation_Softmax_Loss_CategoricalCrossentropy()\n",
    "        \n",
    "            \n",
    "\n",
    "#     def create_and_train_models(self, hyperparams):\n",
    "#         # Create and train multiple models with the same hyperparameters\n",
    "#         for i in range(self.n_models):\n",
    "#             model = NN(\n",
    "#                 l1=l1,\n",
    "#                 l2=l2,\n",
    "#                 input_size=17,\n",
    "#                 hidden_sizes=hidden_size,\n",
    "#                 output_size=1,\n",
    "#                 hidden_activations=hidden_activation,\n",
    "#                 dropout_rates=[dropout_rate],\n",
    "#                 use_batch_norm=use_batch_norm\n",
    "#             )\n",
    "#             print(f\"Training model {i+1}/{self.n_models}\")\n",
    "#             # Train model using existing train_and_evaluate function\n",
    "#             model, val_accuracy = train_and_evaluate(\n",
    "#                 learning_rate=hyperparams['learning_rate'],\n",
    "#                 # l1=hyperparams['l1'],\n",
    "#                 # l2=hyperparams['l2'],\n",
    "#                 # dropout_rate=hyperparams['dropout_rate'],\n",
    "#                 batch_size=hyperparams['batch_size'],\n",
    "#                 n_epochs=hyperparams['n_epochs'],\n",
    "#                 weight_decay=hyperparams['weight_decay'],\n",
    "#                 # model=hyperparams['model']\n",
    "#                 # activation=hyperparams['activation']\n",
    "#                 X_train=X_train,\n",
    "#                 y_train=y_train,\n",
    "#                 X_val=X_val,\n",
    "#                 y_val=y_val,\n",
    "#                 model=model,\n",
    "#             )\n",
    "#             self.models.append(model)\n",
    "#             print(f\"Model {i+1} validation accuracy: {val_accuracy:.4f}\")\n",
    "\n",
    "#     def predict(self, X):\n",
    "#         \"\"\"Make predictions using majority voting\"\"\"\n",
    "#         predictions = []\n",
    "#         for model in self.models:\n",
    "#             model.forward(X, training=False)\n",
    "#             self.loss_activation.forward(\n",
    "#                 model.output, np.zeros((X.shape[0], 2)))  # Dummy y values\n",
    "#             pred = np.argmax(self.loss_activation.output, axis=1)\n",
    "#             predictions.append(pred)\n",
    "\n",
    "#         # Majority voting\n",
    "#         predictions = np.array(predictions)\n",
    "#         final_predictions = np.apply_along_axis(\n",
    "#             lambda x: np.bincount(x).argmax(),\n",
    "#             axis=0,\n",
    "#             arr=predictions\n",
    "#         )\n",
    "#         return final_predictions"
   ]
  },
  {
   "cell_type": "code",
   "execution_count": 33,
   "metadata": {},
   "outputs": [],
   "source": [
    "# ensemble = EnsembleNN(n_models=5)\n",
    "\n",
    "# ensemble.create_and_train_models(best_hyperparams)\n",
    "\n",
    "# test_predictions = ensemble.predict(X_test)\n",
    "# test_accuracy = np.mean(test_predictions == y_test)\n",
    "\n",
    "# print(f\"Ensemble Test Accuracy: {test_accuracy:.4f}\")"
   ]
  }
 ],
 "metadata": {
  "kernelspec": {
   "display_name": "Python 3",
   "language": "python",
   "name": "python3"
  },
  "language_info": {
   "codemirror_mode": {
    "name": "ipython",
    "version": 3
   },
   "file_extension": ".py",
   "mimetype": "text/x-python",
   "name": "python",
   "nbconvert_exporter": "python",
   "pygments_lexer": "ipython3",
   "version": "3.10.11"
  }
 },
 "nbformat": 4,
 "nbformat_minor": 2
}
