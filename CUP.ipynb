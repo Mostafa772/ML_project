{
 "cells": [
  {
   "cell_type": "code",
   "execution_count": 1,
   "id": "c44e849b",
   "metadata": {},
   "outputs": [],
   "source": [
    "%load_ext autoreload\n",
    "%autoreload 2"
   ]
  },
  {
   "cell_type": "code",
   "execution_count": 2,
   "id": "1f027f73",
   "metadata": {},
   "outputs": [],
   "source": [
    "import sys\n",
    "import os\n",
    "\n",
    "# Add the src directory to the Python path\n",
    "src_path = os.path.join(os.getcwd(), 'src')\n",
    "if src_path not in sys.path:\n",
    "    sys.path.append(src_path)\n"
   ]
  },
  {
   "cell_type": "code",
   "execution_count": 3,
   "id": "3dfe7148",
   "metadata": {},
   "outputs": [],
   "source": [
    "from src.activation_functions import *\n",
    "from src.loss_functions import *\n",
    "from src.random_search import *\n",
    "from src.batch_normalization import *\n",
    "from src.layer import *\n",
    "from src.early_stopping import *\n",
    "from src.utils import *\n",
    "from src.optimizers import *\n",
    "import itertools\n",
    "import pandas as pd\n",
    "import numpy as np\n",
    "import sys\n",
    "import os\n"
   ]
  },
  {
   "cell_type": "code",
   "execution_count": 4,
   "id": "575e320b",
   "metadata": {},
   "outputs": [
    {
     "data": {
      "text/html": [
       "<div>\n",
       "<style scoped>\n",
       "    .dataframe tbody tr th:only-of-type {\n",
       "        vertical-align: middle;\n",
       "    }\n",
       "\n",
       "    .dataframe tbody tr th {\n",
       "        vertical-align: top;\n",
       "    }\n",
       "\n",
       "    .dataframe thead th {\n",
       "        text-align: right;\n",
       "    }\n",
       "</style>\n",
       "<table border=\"1\" class=\"dataframe\">\n",
       "  <thead>\n",
       "    <tr style=\"text-align: right;\">\n",
       "      <th></th>\n",
       "      <th>0</th>\n",
       "      <th>1</th>\n",
       "      <th>2</th>\n",
       "      <th>3</th>\n",
       "      <th>4</th>\n",
       "      <th>5</th>\n",
       "      <th>6</th>\n",
       "      <th>7</th>\n",
       "      <th>8</th>\n",
       "      <th>9</th>\n",
       "      <th>10</th>\n",
       "      <th>11</th>\n",
       "      <th>12</th>\n",
       "      <th>13</th>\n",
       "      <th>14</th>\n",
       "      <th>15</th>\n",
       "    </tr>\n",
       "  </thead>\n",
       "  <tbody>\n",
       "    <tr>\n",
       "      <th>0</th>\n",
       "      <td>1</td>\n",
       "      <td>0.946373</td>\n",
       "      <td>0.307995</td>\n",
       "      <td>0.820058</td>\n",
       "      <td>-0.309386</td>\n",
       "      <td>0.950936</td>\n",
       "      <td>-0.000913</td>\n",
       "      <td>-0.093048</td>\n",
       "      <td>-0.029318</td>\n",
       "      <td>0.995230</td>\n",
       "      <td>-1.175176</td>\n",
       "      <td>2.295016</td>\n",
       "      <td>0.223732</td>\n",
       "      <td>-0.011599</td>\n",
       "      <td>-0.503652</td>\n",
       "      <td>-5.564158</td>\n",
       "    </tr>\n",
       "    <tr>\n",
       "      <th>1</th>\n",
       "      <td>2</td>\n",
       "      <td>-0.074075</td>\n",
       "      <td>-0.992654</td>\n",
       "      <td>-1.162582</td>\n",
       "      <td>0.997240</td>\n",
       "      <td>-0.074209</td>\n",
       "      <td>-0.002159</td>\n",
       "      <td>-0.004956</td>\n",
       "      <td>-0.095561</td>\n",
       "      <td>0.995411</td>\n",
       "      <td>0.675930</td>\n",
       "      <td>3.147029</td>\n",
       "      <td>-0.297508</td>\n",
       "      <td>-0.361982</td>\n",
       "      <td>-0.186246</td>\n",
       "      <td>3.445744</td>\n",
       "    </tr>\n",
       "    <tr>\n",
       "      <th>2</th>\n",
       "      <td>3</td>\n",
       "      <td>0.841384</td>\n",
       "      <td>0.531605</td>\n",
       "      <td>0.810176</td>\n",
       "      <td>-0.534053</td>\n",
       "      <td>0.845451</td>\n",
       "      <td>-0.001057</td>\n",
       "      <td>-0.082832</td>\n",
       "      <td>-0.051079</td>\n",
       "      <td>0.995254</td>\n",
       "      <td>-1.069958</td>\n",
       "      <td>2.415989</td>\n",
       "      <td>0.234664</td>\n",
       "      <td>0.170027</td>\n",
       "      <td>-0.344143</td>\n",
       "      <td>-3.675575</td>\n",
       "    </tr>\n",
       "    <tr>\n",
       "      <th>3</th>\n",
       "      <td>4</td>\n",
       "      <td>0.737117</td>\n",
       "      <td>-0.668400</td>\n",
       "      <td>-1.065601</td>\n",
       "      <td>0.671734</td>\n",
       "      <td>0.740793</td>\n",
       "      <td>0.000008</td>\n",
       "      <td>0.073704</td>\n",
       "      <td>-0.066844</td>\n",
       "      <td>0.995038</td>\n",
       "      <td>11.038418</td>\n",
       "      <td>1.003455</td>\n",
       "      <td>-0.100332</td>\n",
       "      <td>-1.032355</td>\n",
       "      <td>-1.184874</td>\n",
       "      <td>15.554511</td>\n",
       "    </tr>\n",
       "    <tr>\n",
       "      <th>4</th>\n",
       "      <td>5</td>\n",
       "      <td>-0.987858</td>\n",
       "      <td>-0.119426</td>\n",
       "      <td>-1.072857</td>\n",
       "      <td>0.120013</td>\n",
       "      <td>-0.992772</td>\n",
       "      <td>0.000064</td>\n",
       "      <td>-0.098661</td>\n",
       "      <td>-0.011863</td>\n",
       "      <td>0.995050</td>\n",
       "      <td>14.834930</td>\n",
       "      <td>1.127759</td>\n",
       "      <td>-0.112600</td>\n",
       "      <td>-0.134817</td>\n",
       "      <td>2.047468</td>\n",
       "      <td>20.522760</td>\n",
       "    </tr>\n",
       "  </tbody>\n",
       "</table>\n",
       "</div>"
      ],
      "text/plain": [
       "   0         1         2         3         4         5         6         7   \\\n",
       "0   1  0.946373  0.307995  0.820058 -0.309386  0.950936 -0.000913 -0.093048   \n",
       "1   2 -0.074075 -0.992654 -1.162582  0.997240 -0.074209 -0.002159 -0.004956   \n",
       "2   3  0.841384  0.531605  0.810176 -0.534053  0.845451 -0.001057 -0.082832   \n",
       "3   4  0.737117 -0.668400 -1.065601  0.671734  0.740793  0.000008  0.073704   \n",
       "4   5 -0.987858 -0.119426 -1.072857  0.120013 -0.992772  0.000064 -0.098661   \n",
       "\n",
       "         8         9          10        11        12        13        14  \\\n",
       "0 -0.029318  0.995230  -1.175176  2.295016  0.223732 -0.011599 -0.503652   \n",
       "1 -0.095561  0.995411   0.675930  3.147029 -0.297508 -0.361982 -0.186246   \n",
       "2 -0.051079  0.995254  -1.069958  2.415989  0.234664  0.170027 -0.344143   \n",
       "3 -0.066844  0.995038  11.038418  1.003455 -0.100332 -1.032355 -1.184874   \n",
       "4 -0.011863  0.995050  14.834930  1.127759 -0.112600 -0.134817  2.047468   \n",
       "\n",
       "          15  \n",
       "0  -5.564158  \n",
       "1   3.445744  \n",
       "2  -3.675575  \n",
       "3  15.554511  \n",
       "4  20.522760  "
      ]
     },
     "execution_count": 4,
     "metadata": {},
     "output_type": "execute_result"
    }
   ],
   "source": [
    "df_path = \"../ML_project/data/cup/ML-CUP24-TR.csv\"\n",
    "df_path2 = \"../ML_project/data/cup/ML-CUP24-TS.csv\"\n",
    "\n",
    "# Preview the dataset\n",
    "df = pd.read_csv(df_path, skiprows=7, header=None)\n",
    "df.head()"
   ]
  },
  {
   "cell_type": "code",
   "execution_count": 5,
   "id": "3ad00fd9",
   "metadata": {},
   "outputs": [],
   "source": [
    "df.columns = [\"ID\"] + [f'input_{i}' for i in range(12)] + ['target_x', 'target_y', 'target_z']\n",
    "df = df.drop(\"ID\", axis=1)"
   ]
  },
  {
   "cell_type": "code",
   "execution_count": 6,
   "id": "7f408ab0",
   "metadata": {},
   "outputs": [
    {
     "name": "stdout",
     "output_type": "stream",
     "text": [
      "           0         1          2\n",
      "0  -0.421997  0.236717  -7.342594\n",
      "1  -0.283333  0.050838   3.428940\n",
      "2   0.137419  0.030498  -2.907336\n",
      "3   1.758643 -0.886580  16.933458\n",
      "4  -1.091619  0.158737   2.392301\n",
      "5  -0.030139 -0.041892  -0.703612\n",
      "6  -0.537285  0.111040   2.657905\n",
      "7  -0.296103  0.080915   2.885263\n",
      "8  -1.578751 -0.185479  14.876680\n",
      "9   1.155768 -0.025354  12.329478\n",
      "10  0.237865  0.755455   7.693303\n",
      "11  0.880421  0.209778  -8.828166\n",
      "12  0.687578  0.985988  14.896379\n",
      "13  0.762072  0.217130  -9.108539\n",
      "14 -2.156456 -0.696712  20.812513\n",
      "15 -0.494655  0.115973  -5.513408\n",
      "16 -1.620315 -0.362419  17.202943\n",
      "17  0.149752  0.676320   8.854500\n",
      "18 -0.794149 -1.553299  17.377104\n",
      "19 -0.049514  0.745878   8.182392\n",
      "20  2.333131 -0.558883  24.923707\n",
      "21  1.227097  0.381899  14.242438\n",
      "22 -0.740300  0.539295   8.972121\n",
      "23 -1.312315 -1.067413  16.626081\n",
      "24  0.588437  0.455289  -9.114358\n",
      "25 -1.013359 -0.028985   8.870993\n",
      "26  1.082475 -1.512010  18.644240\n",
      "27  0.109942  0.027452  -2.324193\n",
      "28  0.602006  0.084882  -0.530813\n",
      "29  0.714760 -0.968250  11.404483\n",
      "30 -1.834703 -1.432885  22.239871\n",
      "31 -0.389891 -1.593560  17.165242\n",
      "32 -1.225807  0.931367  15.208020\n",
      "33 -1.136326 -2.218823  24.275035\n",
      "34  0.170235 -0.531179  -4.953277\n",
      "35  0.662164 -0.864290  11.928916\n",
      "36 -0.444337  0.379639  -7.851968\n",
      "37 -0.130831  0.941642  -9.006643\n",
      "38  0.201728 -0.187148  -4.138837\n",
      "39  1.574429 -0.745339  19.248727\n",
      "40 -0.529139 -2.301167  23.365477\n",
      "41 -1.750184 -0.047519  -0.107279\n",
      "42 -0.341972 -0.191209   4.300549\n",
      "43  1.143781  1.528815  18.359779\n",
      "44 -0.122708  1.581754  14.061882\n",
      "45 -1.949109 -0.508890  22.318044\n",
      "46  1.087278 -0.535810  11.699753\n",
      "47  0.480836  0.427886   5.048967\n",
      "48 -0.787201  0.176681  -6.322790\n",
      "49  0.847878  0.198636   2.757632             0         1          2\n",
      "0   -0.035279  0.314440   2.480273\n",
      "1    0.010229  0.038111   3.504100\n",
      "2    0.152397 -0.053318  -3.716572\n",
      "3    0.328237 -0.119977  -4.182435\n",
      "4    0.562020 -1.044573  12.244242\n",
      "..        ...       ...        ...\n",
      "195  1.302774 -0.133306  13.349132\n",
      "196 -0.634115 -0.624596  10.122236\n",
      "197  0.655548 -0.063550   7.711853\n",
      "198  0.551904  1.353437  15.577295\n",
      "199  0.913495  0.101263  -9.749162\n",
      "\n",
      "[200 rows x 3 columns]\n"
     ]
    }
   ],
   "source": [
    "X_train, X_val, y_train, y_val, X_scaler, y_scaler = preprocess_data(\n",
    "    df, \n",
    "    target=[\"target_x\", \"target_y\", \"target_z\"],\n",
    "    normalize_type=\"z-score\",\n",
    "    val_ratio=0.2,\n",
    "    regression=True\n",
    ")"
   ]
  },
  {
   "cell_type": "code",
   "execution_count": 7,
   "id": "cde649dd",
   "metadata": {},
   "outputs": [
    {
     "data": {
      "text/plain": [
       "((200, 12), (200, 3), (50, 12), (50, 3))"
      ]
     },
     "execution_count": 7,
     "metadata": {},
     "output_type": "execute_result"
    }
   ],
   "source": [
    "X_train.shape, y_train.shape, X_val.shape, y_val.shape"
   ]
  },
  {
   "cell_type": "code",
   "execution_count": 8,
   "id": "75c8fab4",
   "metadata": {},
   "outputs": [],
   "source": [
    "X_train = np.asarray(X_train)\n",
    "y_train = np.asarray(y_train)\n",
    "X_val = np.asarray(X_val)\n",
    "y_val = np.asarray(y_val)"
   ]
  },
  {
   "cell_type": "code",
   "execution_count": 88,
   "id": "4625dc29",
   "metadata": {},
   "outputs": [
    {
     "name": "stdout",
     "output_type": "stream",
     "text": [
      "Number of possible combinations: 1\n"
     ]
    }
   ],
   "source": [
    "param_distributions = {\n",
    "    'hidden_size': [[11, 20, 90, 110]],\n",
    "    'n_h_layers': [2],\n",
    "    'hidden_activation': [Activation_Tanh],\n",
    "    'batch_norm': [True],\n",
    "    'learning_rate': [9e-3],  #np.logspace(-3, -1, num=5).tolist(),\n",
    "    'l1': [1e-9], #np.logspace(-7, -5, num=5).tolist(),\n",
    "    'l2': [1e-6], #np.logspace(-7, -2, num=5).tolist(),\n",
    "    'dropout_rate': [0], #np.logspace(-4, -2, num=5).tolist(),\n",
    "    'batch_size': [64],\n",
    "    'n_epochs': [350],\n",
    "    'weight_decay': [1e-7], #np.logspace(-4, -1, num=5).tolist(),\n",
    "    'patience': [30],\n",
    "    'CC': [False],\n",
    "    'weights_init': ['gaussian_scaled'],\n",
    "    'output_activation': [Activation_Linear()],\n",
    "    'sched_decay': [1.4]\n",
    "}\n",
    "\n",
    "print(f\"Number of possible combinations: {count_permutations(param_distributions)}\")"
   ]
  },
  {
   "cell_type": "code",
   "execution_count": 89,
   "id": "2700b84f",
   "metadata": {},
   "outputs": [
    {
     "name": "stdout",
     "output_type": "stream",
     "text": [
      "Iteration 0\n",
      "✅ Fold 1/5 | Validation Accuracy: 0.8677\n",
      "✅ Fold 2/5 | Validation Accuracy: 0.9124\n",
      "✅ Fold 3/5 | Validation Accuracy: 0.8258\n",
      "✅ Fold 4/5 | Validation Accuracy: 0.9097\n",
      "✅ Fold 5/5 | Validation Accuracy: 0.8751\n",
      "📊 Manual K-Fold | Mean Validation Accuracy over 5 folds: 0.8781\n",
      "\n"
     ]
    }
   ],
   "source": [
    "best_hyperparams, best_performance = random_search(X_train=X_train,\n",
    "                                                   y_train=y_train,\n",
    "                                                   param_distributions=param_distributions,\n",
    "                                                   n_iters=1, regression=True, csv_path=\"cup_top5res.csv\")  # adjust n_iters as needed\n"
   ]
  },
  {
   "cell_type": "code",
   "execution_count": 90,
   "id": "ba0459b9",
   "metadata": {},
   "outputs": [
    {
     "name": "stdout",
     "output_type": "stream",
     "text": [
      "{'hidden_size': [11, 20, 90, 110], 'n_h_layers': 4, 'hidden_activation': <class 'src.activation_functions.Activation_Tanh'>, 'batch_norm': True, 'learning_rate': 0.009, 'l1': 1e-09, 'l2': 1e-06, 'dropout_rate': 0, 'batch_size': 64, 'n_epochs': 350, 'weight_decay': 1e-07, 'patience': 30, 'CC': False, 'weights_init': 'gaussian_scaled', 'output_activation': <src.activation_functions.Activation_Linear object at 0x7f8f0361ec30>, 'sched_decay': 1.4, 'val_accuracy': np.float64(0.8781121471990921)}\n"
     ]
    }
   ],
   "source": [
    "print(best_hyperparams)"
   ]
  },
  {
   "cell_type": "code",
   "execution_count": 91,
   "id": "3e9a3af0",
   "metadata": {},
   "outputs": [
    {
     "name": "stdout",
     "output_type": "stream",
     "text": [
      "Final Validation R² Score: 0.8620; Loss 0.1408\n"
     ]
    },
    {
     "data": {
      "image/png": "[encoded data removed]",
      "text/plain": [
       "<Figure size 800x600 with 1 Axes>"
      ]
     },
     "metadata": {},
     "output_type": "display_data"
    },
    {
     "data": {
      "image/png": "[encoded data removed]",
      "text/plain": [
       "<Figure size 800x600 with 1 Axes>"
      ]
     },
     "metadata": {},
     "output_type": "display_data"
    }
   ],
   "source": [
    "if best_hyperparams['CC']:\n",
    "    model = CascadeCorrelation(input_size = 12, output_size=3, activation=Activation_Leaky_ReLU, output_activation = Activation_Sigmoid)\n",
    "else:\n",
    "    model = NN(\n",
    "        l1=best_hyperparams['l1'],\n",
    "        l2=best_hyperparams['l2'],\n",
    "        input_size=12,\n",
    "        hidden_size=best_hyperparams['hidden_size'],\n",
    "        output_size=3,\n",
    "        hidden_activation=best_hyperparams['hidden_activation'],\n",
    "        dropout_rate=best_hyperparams['dropout_rate'],\n",
    "        use_batch_norm=best_hyperparams['batch_norm'],\n",
    "        weights_init=best_hyperparams['weights_init'],\n",
    "        n_h_layers=best_hyperparams['n_h_layers'],\n",
    "        output_activation=best_hyperparams['output_activation']\n",
    "    )\n",
    "\n",
    "train = Train(best_hyperparams, model, regression=True)\n",
    "train.train_and_evaluate(X_train, y_train, X_val, y_val)\n",
    "train.test(X_val, y_val)\n",
    "print(f\"Final Validation R² Score: {train.test_score:.4f}; Loss {train.test_loss:.4f}\")\n",
    "train.plot(score=True)"
   ]
  }
 ],
 "metadata": {
  "kernelspec": {
   "display_name": "venv",
   "language": "python",
   "name": "python3"
  },
  "language_info": {
   "codemirror_mode": {
    "name": "ipython",
    "version": 3
   },
   "file_extension": ".py",
   "mimetype": "text/x-python",
   "name": "python",
   "nbconvert_exporter": "python",
   "pygments_lexer": "ipython3",
   "version": "3.12.11"
  }
 },
 "nbformat": 4,
 "nbformat_minor": 5
}
