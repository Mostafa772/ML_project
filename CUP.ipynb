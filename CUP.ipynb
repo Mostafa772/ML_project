{
 "cells": [
  {
   "cell_type": "code",
   "execution_count": 126,
   "id": "c44e849b",
   "metadata": {},
   "outputs": [
    {
     "name": "stdout",
     "output_type": "stream",
     "text": [
      "The autoreload extension is already loaded. To reload it, use:\n",
      "  %reload_ext autoreload\n"
     ]
    }
   ],
   "source": [
    "%load_ext autoreload\n",
    "%autoreload 2"
   ]
  },
  {
   "cell_type": "code",
   "execution_count": 127,
   "id": "1f027f73",
   "metadata": {},
   "outputs": [],
   "source": [
    "import sys\n",
    "import os\n",
    "\n",
    "# Add the src directory to the Python path\n",
    "src_path = os.path.join(os.getcwd(), 'src')\n",
    "if src_path not in sys.path:\n",
    "    sys.path.append(src_path)"
   ]
  },
  {
   "cell_type": "code",
   "execution_count": 128,
   "id": "3dfe7148",
   "metadata": {},
   "outputs": [],
   "source": [
    "from src.activation_functions import *\n",
    "from src.loss_functions import *\n",
    "from src.random_search import *\n",
    "from src.batch_normalization import *\n",
    "from src.layer import *\n",
    "from src.early_stopping import *\n",
    "from src.utils import *\n",
    "from src.optimizers import *\n",
    "import itertools\n",
    "import pandas as pd\n",
    "import numpy as np\n",
    "import sys\n",
    "import os\n"
   ]
  },
  {
   "cell_type": "code",
   "execution_count": 129,
   "id": "575e320b",
   "metadata": {},
   "outputs": [
    {
     "data": {
      "text/html": [
       "<div>\n",
       "<style scoped>\n",
       "    .dataframe tbody tr th:only-of-type {\n",
       "        vertical-align: middle;\n",
       "    }\n",
       "\n",
       "    .dataframe tbody tr th {\n",
       "        vertical-align: top;\n",
       "    }\n",
       "\n",
       "    .dataframe thead th {\n",
       "        text-align: right;\n",
       "    }\n",
       "</style>\n",
       "<table border=\"1\" class=\"dataframe\">\n",
       "  <thead>\n",
       "    <tr style=\"text-align: right;\">\n",
       "      <th></th>\n",
       "      <th>0</th>\n",
       "      <th>1</th>\n",
       "      <th>2</th>\n",
       "      <th>3</th>\n",
       "      <th>4</th>\n",
       "      <th>5</th>\n",
       "      <th>6</th>\n",
       "      <th>7</th>\n",
       "      <th>8</th>\n",
       "      <th>9</th>\n",
       "      <th>10</th>\n",
       "      <th>11</th>\n",
       "      <th>12</th>\n",
       "      <th>13</th>\n",
       "      <th>14</th>\n",
       "      <th>15</th>\n",
       "    </tr>\n",
       "  </thead>\n",
       "  <tbody>\n",
       "    <tr>\n",
       "      <th>0</th>\n",
       "      <td>1</td>\n",
       "      <td>0.946373</td>\n",
       "      <td>0.307995</td>\n",
       "      <td>0.820058</td>\n",
       "      <td>-0.309386</td>\n",
       "      <td>0.950936</td>\n",
       "      <td>-0.000913</td>\n",
       "      <td>-0.093048</td>\n",
       "      <td>-0.029318</td>\n",
       "      <td>0.995230</td>\n",
       "      <td>-1.175176</td>\n",
       "      <td>2.295016</td>\n",
       "      <td>0.223732</td>\n",
       "      <td>-0.011599</td>\n",
       "      <td>-0.503652</td>\n",
       "      <td>-5.564158</td>\n",
       "    </tr>\n",
       "    <tr>\n",
       "      <th>1</th>\n",
       "      <td>2</td>\n",
       "      <td>-0.074075</td>\n",
       "      <td>-0.992654</td>\n",
       "      <td>-1.162582</td>\n",
       "      <td>0.997240</td>\n",
       "      <td>-0.074209</td>\n",
       "      <td>-0.002159</td>\n",
       "      <td>-0.004956</td>\n",
       "      <td>-0.095561</td>\n",
       "      <td>0.995411</td>\n",
       "      <td>0.675930</td>\n",
       "      <td>3.147029</td>\n",
       "      <td>-0.297508</td>\n",
       "      <td>-0.361982</td>\n",
       "      <td>-0.186246</td>\n",
       "      <td>3.445744</td>\n",
       "    </tr>\n",
       "    <tr>\n",
       "      <th>2</th>\n",
       "      <td>3</td>\n",
       "      <td>0.841384</td>\n",
       "      <td>0.531605</td>\n",
       "      <td>0.810176</td>\n",
       "      <td>-0.534053</td>\n",
       "      <td>0.845451</td>\n",
       "      <td>-0.001057</td>\n",
       "      <td>-0.082832</td>\n",
       "      <td>-0.051079</td>\n",
       "      <td>0.995254</td>\n",
       "      <td>-1.069958</td>\n",
       "      <td>2.415989</td>\n",
       "      <td>0.234664</td>\n",
       "      <td>0.170027</td>\n",
       "      <td>-0.344143</td>\n",
       "      <td>-3.675575</td>\n",
       "    </tr>\n",
       "    <tr>\n",
       "      <th>3</th>\n",
       "      <td>4</td>\n",
       "      <td>0.737117</td>\n",
       "      <td>-0.668400</td>\n",
       "      <td>-1.065601</td>\n",
       "      <td>0.671734</td>\n",
       "      <td>0.740793</td>\n",
       "      <td>0.000008</td>\n",
       "      <td>0.073704</td>\n",
       "      <td>-0.066844</td>\n",
       "      <td>0.995038</td>\n",
       "      <td>11.038418</td>\n",
       "      <td>1.003455</td>\n",
       "      <td>-0.100332</td>\n",
       "      <td>-1.032355</td>\n",
       "      <td>-1.184874</td>\n",
       "      <td>15.554511</td>\n",
       "    </tr>\n",
       "    <tr>\n",
       "      <th>4</th>\n",
       "      <td>5</td>\n",
       "      <td>-0.987858</td>\n",
       "      <td>-0.119426</td>\n",
       "      <td>-1.072857</td>\n",
       "      <td>0.120013</td>\n",
       "      <td>-0.992772</td>\n",
       "      <td>0.000064</td>\n",
       "      <td>-0.098661</td>\n",
       "      <td>-0.011863</td>\n",
       "      <td>0.995050</td>\n",
       "      <td>14.834930</td>\n",
       "      <td>1.127759</td>\n",
       "      <td>-0.112600</td>\n",
       "      <td>-0.134817</td>\n",
       "      <td>2.047468</td>\n",
       "      <td>20.522760</td>\n",
       "    </tr>\n",
       "  </tbody>\n",
       "</table>\n",
       "</div>"
      ],
      "text/plain": [
       "   0         1         2         3         4         5         6         7   \\\n",
       "0   1  0.946373  0.307995  0.820058 -0.309386  0.950936 -0.000913 -0.093048   \n",
       "1   2 -0.074075 -0.992654 -1.162582  0.997240 -0.074209 -0.002159 -0.004956   \n",
       "2   3  0.841384  0.531605  0.810176 -0.534053  0.845451 -0.001057 -0.082832   \n",
       "3   4  0.737117 -0.668400 -1.065601  0.671734  0.740793  0.000008  0.073704   \n",
       "4   5 -0.987858 -0.119426 -1.072857  0.120013 -0.992772  0.000064 -0.098661   \n",
       "\n",
       "         8         9          10        11        12        13        14  \\\n",
       "0 -0.029318  0.995230  -1.175176  2.295016  0.223732 -0.011599 -0.503652   \n",
       "1 -0.095561  0.995411   0.675930  3.147029 -0.297508 -0.361982 -0.186246   \n",
       "2 -0.051079  0.995254  -1.069958  2.415989  0.234664  0.170027 -0.344143   \n",
       "3 -0.066844  0.995038  11.038418  1.003455 -0.100332 -1.032355 -1.184874   \n",
       "4 -0.011863  0.995050  14.834930  1.127759 -0.112600 -0.134817  2.047468   \n",
       "\n",
       "          15  \n",
       "0  -5.564158  \n",
       "1   3.445744  \n",
       "2  -3.675575  \n",
       "3  15.554511  \n",
       "4  20.522760  "
      ]
     },
     "execution_count": 129,
     "metadata": {},
     "output_type": "execute_result"
    }
   ],
   "source": [
    "df_path = \"../ML_project/data/cup/ML-CUP24-TR.csv\"\n",
    "df_path2 = \"../ML_project/data/cup/ML-CUP24-TS.csv\"\n",
    "\n",
    "# Preview the dataset\n",
    "df = pd.read_csv(df_path, skiprows=7, header=None)\n",
    "df.head()"
   ]
  },
  {
   "cell_type": "code",
   "execution_count": 130,
   "id": "3ad00fd9",
   "metadata": {},
   "outputs": [],
   "source": [
    "df.columns = [\"ID\"] + [f'input_{i}' for i in range(12)] + ['target_x', 'target_y', 'target_z']\n",
    "df = df.drop(\"ID\", axis=1)"
   ]
  },
  {
   "cell_type": "code",
   "execution_count": 131,
   "id": "7f408ab0",
   "metadata": {},
   "outputs": [],
   "source": [
    "X_train, X_val, y_train, y_val, X_scaler, y_scaler = preprocess_data(\n",
    "    df, \n",
    "    target=[\"target_x\", \"target_y\", \"target_z\"],\n",
    "    normalize_type=\"z-score\",\n",
    "    val_ratio=0.2,\n",
    "    regression=True\n",
    ")"
   ]
  },
  {
   "cell_type": "code",
   "execution_count": 132,
   "id": "cde649dd",
   "metadata": {},
   "outputs": [
    {
     "data": {
      "text/plain": [
       "((200, 12), (200, 3), (50, 12), (50, 3))"
      ]
     },
     "execution_count": 132,
     "metadata": {},
     "output_type": "execute_result"
    }
   ],
   "source": [
    "X_train.shape, y_train.shape, X_val.shape, y_val.shape"
   ]
  },
  {
   "cell_type": "code",
   "execution_count": 133,
   "id": "75c8fab4",
   "metadata": {},
   "outputs": [],
   "source": [
    "X_train = np.asarray(X_train)\n",
    "y_train = np.asarray(y_train)\n",
    "X_val = np.asarray(X_val)\n",
    "y_val = np.asarray(y_val)"
   ]
  },
  {
   "cell_type": "code",
   "execution_count": 134,
   "id": "4625dc29",
   "metadata": {},
   "outputs": [],
   "source": [
    "param_distributions = {\n",
    "    'hidden_size': [[3], [4], [5], [6]],\n",
    "    'hidden_activation': [[Activation_Tanh], [Activation_Leaky_ReLU], [Activation_Sigmoid], [Activation_ReLU]],\n",
    "    'batch_norm': [[False]],\n",
    "    'learning_rate': np.logspace(-3, -1, num=20).tolist(),\n",
    "    'l1':  np.logspace(-5, -1, num=10).tolist(),\n",
    "    'l2': np.logspace(-5, -1, num=10).tolist(),\n",
    "    'dropout_rate': np.logspace(-5, -1, num=10).tolist(),\n",
    "    'batch_size': [8, 16, 32],\n",
    "    'n_epochs': [50,100],\n",
    "    'weight_decay': np.logspace(-5, -1, num=20).tolist(),\n",
    "    'patience': [10, 30, 50]\n",
    "}"
   ]
  },
  {
   "cell_type": "code",
   "execution_count": 135,
   "id": "2700b84f",
   "metadata": {},
   "outputs": [
    {
     "name": "stdout",
     "output_type": "stream",
     "text": [
      "regression k-fold:  True\n",
      "[3] [<class 'src.activation_functions.Activation_Sigmoid'>] [0.0016681005372000592] [False]\n",
      "regression:  True\n"
     ]
    },
    {
     "ename": "ValueError",
     "evalue": "operands could not be broadcast together with shapes (32,) (32,3) ",
     "output_type": "error",
     "traceback": [
      "\u001b[1;31m---------------------------------------------------------------------------\u001b[0m",
      "\u001b[1;31mValueError\u001b[0m                                Traceback (most recent call last)",
      "Cell \u001b[1;32mIn[135], line 1\u001b[0m\n\u001b[1;32m----> 1\u001b[0m best_hyperparams, best_performance \u001b[38;5;241m=\u001b[39m \u001b[43mrandom_search\u001b[49m\u001b[43m(\u001b[49m\u001b[43mX_train\u001b[49m\u001b[38;5;241;43m=\u001b[39;49m\u001b[43mX_train\u001b[49m\u001b[43m,\u001b[49m\n\u001b[0;32m      2\u001b[0m \u001b[43m                                                   \u001b[49m\u001b[43my_train\u001b[49m\u001b[38;5;241;43m=\u001b[39;49m\u001b[43my_train\u001b[49m\u001b[43m,\u001b[49m\n\u001b[0;32m      3\u001b[0m \u001b[43m                                                   \u001b[49m\u001b[43mparam_distributions\u001b[49m\u001b[38;5;241;43m=\u001b[39;49m\u001b[43mparam_distributions\u001b[49m\u001b[43m,\u001b[49m\n\u001b[0;32m      4\u001b[0m \u001b[43m                                                   \u001b[49m\u001b[43mn_iters\u001b[49m\u001b[38;5;241;43m=\u001b[39;49m\u001b[38;5;241;43m500\u001b[39;49m\u001b[43m,\u001b[49m\u001b[43m \u001b[49m\u001b[43mregression\u001b[49m\u001b[38;5;241;43m=\u001b[39;49m\u001b[38;5;28;43;01mTrue\u001b[39;49;00m\u001b[43m)\u001b[49m  \u001b[38;5;66;03m# adjust n_iters as needed\u001b[39;00m\n\u001b[0;32m      6\u001b[0m \u001b[38;5;28mprint\u001b[39m(best_hyperparams)\n",
      "File \u001b[1;32mc:\\Users\\Mostafa\\Desktop\\first_year_Pisa\\Semester_1\\ML\\project_implementation\\ML_project\\src\\random_search.py:29\u001b[0m, in \u001b[0;36mrandom_search\u001b[1;34m(X_train, y_train, param_distributions, n_iters, csv_path, regression)\u001b[0m\n\u001b[0;32m     14\u001b[0m params \u001b[38;5;241m=\u001b[39m {\n\u001b[0;32m     15\u001b[0m     \u001b[38;5;124m'\u001b[39m\u001b[38;5;124mlearning_rate\u001b[39m\u001b[38;5;124m'\u001b[39m: random\u001b[38;5;241m.\u001b[39mchoice(param_distributions[\u001b[38;5;124m'\u001b[39m\u001b[38;5;124mlearning_rate\u001b[39m\u001b[38;5;124m'\u001b[39m]),\n\u001b[0;32m     16\u001b[0m     \u001b[38;5;124m'\u001b[39m\u001b[38;5;124ml1\u001b[39m\u001b[38;5;124m'\u001b[39m: random\u001b[38;5;241m.\u001b[39mchoice(param_distributions[\u001b[38;5;124m'\u001b[39m\u001b[38;5;124ml1\u001b[39m\u001b[38;5;124m'\u001b[39m]),\n\u001b[1;32m   (...)\u001b[0m\n\u001b[0;32m     25\u001b[0m     \u001b[38;5;124m'\u001b[39m\u001b[38;5;124mpatience\u001b[39m\u001b[38;5;124m'\u001b[39m: random\u001b[38;5;241m.\u001b[39mchoice(param_distributions[\u001b[38;5;124m'\u001b[39m\u001b[38;5;124mpatience\u001b[39m\u001b[38;5;124m'\u001b[39m])            \n\u001b[0;32m     26\u001b[0m }\n\u001b[0;32m     28\u001b[0m \u001b[38;5;66;03m# Train and evaluate the model\u001b[39;00m\n\u001b[1;32m---> 29\u001b[0m _, val_accuracy \u001b[38;5;241m=\u001b[39m \u001b[43mk_fold_cross_validation_manual\u001b[49m\u001b[43m(\u001b[49m\u001b[43mX\u001b[49m\u001b[38;5;241;43m=\u001b[39;49m\u001b[43mX_train\u001b[49m\u001b[43m,\u001b[49m\u001b[43m \u001b[49m\u001b[43my\u001b[49m\u001b[38;5;241;43m=\u001b[39;49m\u001b[43my_train\u001b[49m\u001b[43m,\u001b[49m\u001b[43m \u001b[49m\u001b[43ml1\u001b[49m\u001b[38;5;241;43m=\u001b[39;49m\u001b[43mparams\u001b[49m\u001b[43m[\u001b[49m\u001b[38;5;124;43m\"\u001b[39;49m\u001b[38;5;124;43ml1\u001b[39;49m\u001b[38;5;124;43m\"\u001b[39;49m\u001b[43m]\u001b[49m\u001b[43m,\u001b[49m\u001b[43m \u001b[49m\u001b[43ml2\u001b[49m\u001b[38;5;241;43m=\u001b[39;49m\u001b[43mparams\u001b[49m\u001b[43m[\u001b[49m\u001b[38;5;124;43m\"\u001b[39;49m\u001b[38;5;124;43ml2\u001b[39;49m\u001b[38;5;124;43m\"\u001b[39;49m\u001b[43m]\u001b[49m\u001b[43m,\u001b[49m\n\u001b[0;32m     30\u001b[0m \u001b[43m                            \u001b[49m\u001b[43mhidden_size\u001b[49m\u001b[38;5;241;43m=\u001b[39;49m\u001b[43mparams\u001b[49m\u001b[43m[\u001b[49m\u001b[38;5;124;43m\"\u001b[39;49m\u001b[38;5;124;43mhidden_size\u001b[39;49m\u001b[38;5;124;43m\"\u001b[39;49m\u001b[43m]\u001b[49m\u001b[43m,\u001b[49m\n\u001b[0;32m     31\u001b[0m \u001b[43m                            \u001b[49m\u001b[43mhidden_activation\u001b[49m\u001b[38;5;241;43m=\u001b[39;49m\u001b[43mparams\u001b[49m\u001b[43m[\u001b[49m\u001b[38;5;124;43m\"\u001b[39;49m\u001b[38;5;124;43mhidden_activation\u001b[39;49m\u001b[38;5;124;43m\"\u001b[39;49m\u001b[43m]\u001b[49m\u001b[43m,\u001b[49m\n\u001b[0;32m     32\u001b[0m \u001b[43m                            \u001b[49m\u001b[43mdropout_rate\u001b[49m\u001b[38;5;241;43m=\u001b[39;49m\u001b[43mparams\u001b[49m\u001b[43m[\u001b[49m\u001b[38;5;124;43m\"\u001b[39;49m\u001b[38;5;124;43mdropout_rate\u001b[39;49m\u001b[38;5;124;43m\"\u001b[39;49m\u001b[43m]\u001b[49m\u001b[43m,\u001b[49m\n\u001b[0;32m     33\u001b[0m \u001b[43m                            \u001b[49m\u001b[43muse_batch_norm\u001b[49m\u001b[38;5;241;43m=\u001b[39;49m\u001b[43mparams\u001b[49m\u001b[43m[\u001b[49m\u001b[38;5;124;43m\"\u001b[39;49m\u001b[38;5;124;43mbatch_norm\u001b[39;49m\u001b[38;5;124;43m\"\u001b[39;49m\u001b[43m]\u001b[49m\u001b[43m,\u001b[49m\u001b[43m \u001b[49m\n\u001b[0;32m     34\u001b[0m \u001b[43m                            \u001b[49m\u001b[43mlearning_rate\u001b[49m\u001b[38;5;241;43m=\u001b[39;49m\u001b[43mparams\u001b[49m\u001b[43m[\u001b[49m\u001b[38;5;124;43m\"\u001b[39;49m\u001b[38;5;124;43mlearning_rate\u001b[39;49m\u001b[38;5;124;43m\"\u001b[39;49m\u001b[43m]\u001b[49m\u001b[43m,\u001b[49m\n\u001b[0;32m     35\u001b[0m \u001b[43m                            \u001b[49m\u001b[43mn_epochs\u001b[49m\u001b[38;5;241;43m=\u001b[39;49m\u001b[43mparams\u001b[49m\u001b[43m[\u001b[49m\u001b[38;5;124;43m\"\u001b[39;49m\u001b[38;5;124;43mn_epochs\u001b[39;49m\u001b[38;5;124;43m\"\u001b[39;49m\u001b[43m]\u001b[49m\u001b[43m,\u001b[49m\n\u001b[0;32m     36\u001b[0m \u001b[43m                            \u001b[49m\u001b[43mbatch_size\u001b[49m\u001b[38;5;241;43m=\u001b[39;49m\u001b[43mparams\u001b[49m\u001b[43m[\u001b[49m\u001b[38;5;124;43m\"\u001b[39;49m\u001b[38;5;124;43mbatch_size\u001b[39;49m\u001b[38;5;124;43m\"\u001b[39;49m\u001b[43m]\u001b[49m\u001b[43m,\u001b[49m\n\u001b[0;32m     37\u001b[0m \u001b[43m                            \u001b[49m\u001b[43mweight_decay\u001b[49m\u001b[38;5;241;43m=\u001b[39;49m\u001b[43mparams\u001b[49m\u001b[43m[\u001b[49m\u001b[38;5;124;43m\"\u001b[39;49m\u001b[38;5;124;43mweight_decay\u001b[39;49m\u001b[38;5;124;43m\"\u001b[39;49m\u001b[43m]\u001b[49m\u001b[43m,\u001b[49m\n\u001b[0;32m     38\u001b[0m \u001b[43m                            \u001b[49m\u001b[43mpatience\u001b[49m\u001b[38;5;241;43m=\u001b[39;49m\u001b[43mparams\u001b[49m\u001b[43m[\u001b[49m\u001b[38;5;124;43m\"\u001b[39;49m\u001b[38;5;124;43mpatience\u001b[39;49m\u001b[38;5;124;43m\"\u001b[39;49m\u001b[43m]\u001b[49m\u001b[43m,\u001b[49m\n\u001b[0;32m     39\u001b[0m \u001b[43m                            \u001b[49m\u001b[43mk\u001b[49m\u001b[38;5;241;43m=\u001b[39;49m\u001b[38;5;241;43m5\u001b[39;49m\u001b[43m,\u001b[49m\u001b[43m \u001b[49m\u001b[43mseed\u001b[49m\u001b[38;5;241;43m=\u001b[39;49m\u001b[38;5;241;43m42\u001b[39;49m\u001b[43m,\u001b[49m\u001b[43m \u001b[49m\u001b[43mregression\u001b[49m\u001b[38;5;241;43m=\u001b[39;49m\u001b[43mregression\u001b[49m\u001b[43m)\u001b[49m\n\u001b[0;32m     41\u001b[0m \u001b[38;5;66;03m# Save the result\u001b[39;00m\n\u001b[0;32m     42\u001b[0m result \u001b[38;5;241m=\u001b[39m params\u001b[38;5;241m.\u001b[39mcopy()\n",
      "File \u001b[1;32mc:\\Users\\Mostafa\\Desktop\\first_year_Pisa\\Semester_1\\ML\\project_implementation\\ML_project\\src\\k_fold_cross_validation.py:44\u001b[0m, in \u001b[0;36mk_fold_cross_validation_manual\u001b[1;34m(X, y, l1, l2, hidden_size, hidden_activation, dropout_rate, use_batch_norm, learning_rate, n_epochs, batch_size, weight_decay, patience, k, seed, regression)\u001b[0m\n\u001b[0;32m     31\u001b[0m X_val, y_val \u001b[38;5;241m=\u001b[39m X[val_indices], y[val_indices]\n\u001b[0;32m     33\u001b[0m model \u001b[38;5;241m=\u001b[39m NN(\n\u001b[0;32m     34\u001b[0m     l1\u001b[38;5;241m=\u001b[39ml1,\n\u001b[0;32m     35\u001b[0m     l2\u001b[38;5;241m=\u001b[39ml2,\n\u001b[1;32m   (...)\u001b[0m\n\u001b[0;32m     41\u001b[0m     use_batch_norm\u001b[38;5;241m=\u001b[39muse_batch_norm\n\u001b[0;32m     42\u001b[0m )\n\u001b[1;32m---> 44\u001b[0m _, val_acc \u001b[38;5;241m=\u001b[39m \u001b[43mtrain_and_evaluate\u001b[49m\u001b[43m(\u001b[49m\u001b[43mX_train\u001b[49m\u001b[43m,\u001b[49m\u001b[43m \u001b[49m\u001b[43my_train\u001b[49m\u001b[43m,\u001b[49m\u001b[43m \u001b[49m\u001b[43mX_val\u001b[49m\u001b[43m,\u001b[49m\u001b[43m \u001b[49m\u001b[43my_val\u001b[49m\u001b[43m,\u001b[49m\n\u001b[0;32m     45\u001b[0m \u001b[43m                                \u001b[49m\u001b[43mlearning_rate\u001b[49m\u001b[38;5;241;43m=\u001b[39;49m\u001b[43mlearning_rate\u001b[49m\u001b[43m,\u001b[49m\n\u001b[0;32m     46\u001b[0m \u001b[43m                                \u001b[49m\u001b[43mn_epochs\u001b[49m\u001b[38;5;241;43m=\u001b[39;49m\u001b[43mn_epochs\u001b[49m\u001b[43m,\u001b[49m\u001b[43m \u001b[49m\u001b[43mbatch_size\u001b[49m\u001b[38;5;241;43m=\u001b[39;49m\u001b[43mbatch_size\u001b[49m\u001b[43m,\u001b[49m\n\u001b[0;32m     47\u001b[0m \u001b[43m                                \u001b[49m\u001b[43mweight_decay\u001b[49m\u001b[38;5;241;43m=\u001b[39;49m\u001b[43mweight_decay\u001b[49m\u001b[43m,\u001b[49m\u001b[43m \u001b[49m\u001b[43mpatience\u001b[49m\u001b[38;5;241;43m=\u001b[39;49m\u001b[43mpatience\u001b[49m\u001b[43m,\u001b[49m\n\u001b[0;32m     48\u001b[0m \u001b[43m                                \u001b[49m\u001b[43mmodel\u001b[49m\u001b[38;5;241;43m=\u001b[39;49m\u001b[43mmodel\u001b[49m\u001b[43m,\u001b[49m\u001b[43m \u001b[49m\u001b[43mregression\u001b[49m\u001b[38;5;241;43m=\u001b[39;49m\u001b[43mregression\u001b[49m\u001b[43m)\u001b[49m\n\u001b[0;32m     50\u001b[0m val_accuracies\u001b[38;5;241m.\u001b[39mappend(val_acc)\n\u001b[0;32m     51\u001b[0m \u001b[38;5;28mprint\u001b[39m(\u001b[38;5;124mf\u001b[39m\u001b[38;5;124m\"\u001b[39m\u001b[38;5;124m✅ Fold \u001b[39m\u001b[38;5;132;01m{\u001b[39;00mfold\u001b[38;5;241m+\u001b[39m\u001b[38;5;241m1\u001b[39m\u001b[38;5;132;01m}\u001b[39;00m\u001b[38;5;124m/\u001b[39m\u001b[38;5;132;01m{\u001b[39;00mk\u001b[38;5;132;01m}\u001b[39;00m\u001b[38;5;124m | Validation Accuracy: \u001b[39m\u001b[38;5;132;01m{\u001b[39;00mval_acc\u001b[38;5;132;01m:\u001b[39;00m\u001b[38;5;124m.4f\u001b[39m\u001b[38;5;132;01m}\u001b[39;00m\u001b[38;5;124m\"\u001b[39m)\n",
      "File \u001b[1;32mc:\\Users\\Mostafa\\Desktop\\first_year_Pisa\\Semester_1\\ML\\project_implementation\\ML_project\\src\\train_and_evaluate.py:45\u001b[0m, in \u001b[0;36mtrain_and_evaluate\u001b[1;34m(X_train, y_train, X_val, y_val, learning_rate, n_epochs, batch_size, weight_decay, patience, model, regression)\u001b[0m\n\u001b[0;32m     43\u001b[0m     score \u001b[38;5;241m=\u001b[39m np\u001b[38;5;241m.\u001b[39mmean(predictions \u001b[38;5;241m==\u001b[39m y_batch\u001b[38;5;241m.\u001b[39msqueeze())\n\u001b[0;32m     44\u001b[0m \u001b[38;5;28;01melse\u001b[39;00m:\n\u001b[1;32m---> 45\u001b[0m     score \u001b[38;5;241m=\u001b[39m \u001b[43mr2_score\u001b[49m\u001b[43m(\u001b[49m\u001b[43my_batch\u001b[49m\u001b[43m,\u001b[49m\u001b[43m \u001b[49m\u001b[43mmodel\u001b[49m\u001b[38;5;241;43m.\u001b[39;49m\u001b[43moutput\u001b[49m\u001b[43m)\u001b[49m\n\u001b[0;32m     47\u001b[0m \u001b[38;5;66;03m# Backward pass\u001b[39;00m\n\u001b[0;32m     48\u001b[0m loss_function\u001b[38;5;241m.\u001b[39mbackward(model\u001b[38;5;241m.\u001b[39moutput, y_batch)\n",
      "File \u001b[1;32mc:\\Users\\Mostafa\\Desktop\\first_year_Pisa\\Semester_1\\ML\\project_implementation\\ML_project\\src\\loss_functions.py:121\u001b[0m, in \u001b[0;36mr2_score\u001b[1;34m(y_true, y_pred)\u001b[0m\n\u001b[0;32m    118\u001b[0m y_true \u001b[38;5;241m=\u001b[39m np\u001b[38;5;241m.\u001b[39marray(y_true)\u001b[38;5;241m.\u001b[39msqueeze()\n\u001b[0;32m    119\u001b[0m y_pred \u001b[38;5;241m=\u001b[39m np\u001b[38;5;241m.\u001b[39marray(y_pred)\u001b[38;5;241m.\u001b[39msqueeze()\n\u001b[1;32m--> 121\u001b[0m ss_res \u001b[38;5;241m=\u001b[39m np\u001b[38;5;241m.\u001b[39msum((\u001b[43my_true\u001b[49m\u001b[43m \u001b[49m\u001b[38;5;241;43m-\u001b[39;49m\u001b[43m \u001b[49m\u001b[43my_pred\u001b[49m) \u001b[38;5;241m*\u001b[39m\u001b[38;5;241m*\u001b[39m \u001b[38;5;241m2\u001b[39m)\n\u001b[0;32m    122\u001b[0m ss_tot \u001b[38;5;241m=\u001b[39m np\u001b[38;5;241m.\u001b[39msum((y_true \u001b[38;5;241m-\u001b[39m np\u001b[38;5;241m.\u001b[39mmean(y_true)) \u001b[38;5;241m*\u001b[39m\u001b[38;5;241m*\u001b[39m \u001b[38;5;241m2\u001b[39m)\n\u001b[0;32m    124\u001b[0m \u001b[38;5;28;01mreturn\u001b[39;00m \u001b[38;5;241m1\u001b[39m \u001b[38;5;241m-\u001b[39m ss_res \u001b[38;5;241m/\u001b[39m ss_tot \u001b[38;5;28;01mif\u001b[39;00m ss_tot \u001b[38;5;241m!=\u001b[39m \u001b[38;5;241m0\u001b[39m \u001b[38;5;28;01melse\u001b[39;00m \u001b[38;5;241m0.0\u001b[39m\n",
      "\u001b[1;31mValueError\u001b[0m: operands could not be broadcast together with shapes (32,) (32,3) "
     ]
    }
   ],
   "source": [
    "best_hyperparams, best_performance = random_search(X_train=X_train,\n",
    "                                                   y_train=y_train,\n",
    "                                                   param_distributions=param_distributions,\n",
    "                                                   n_iters=500, regression=True)  # adjust n_iters as needed\n",
    "\n",
    "print(best_hyperparams)"
   ]
  },
  {
   "cell_type": "code",
   "execution_count": null,
   "id": "ba0459b9",
   "metadata": {},
   "outputs": [],
   "source": [
    "learning_rate, l1, l2, dropout_rate, batch_size, n_epochs, hidden_size, hidden_activation, use_batch_norm, weight_decay, patience, validation_accuracy = best_hyperparams.values()\n",
    "print(best_hyperparams)"
   ]
  },
  {
   "cell_type": "code",
   "execution_count": null,
   "id": "58ad7be2",
   "metadata": {},
   "outputs": [],
   "source": [
    "model = NN(\n",
    "    l1=l1,\n",
    "    l2=l2,\n",
    "    input_size=12,\n",
    "    hidden_sizes=hidden_size,\n",
    "    output_size=3,\n",
    "    hidden_activations=hidden_activation,\n",
    "    dropout_rates=[dropout_rate],\n",
    "    use_batch_norm=use_batch_norm\n",
    ")\n",
    "# model = CascadeCorrelation(input_size = 17, output_size= 1, activation=Activation_Leaky_ReLU,\n",
    "#                            output_activation = Activation_Sigmoid)\n",
    "batch_size = batch_size\n",
    "learning_rate = learning_rate\n",
    "n_epochs = n_epochs"
   ]
  },
  {
   "cell_type": "code",
   "execution_count": null,
   "id": "7d39767d",
   "metadata": {},
   "outputs": [
    {
     "name": "stdout",
     "output_type": "stream",
     "text": [
      "[4] [<class 'src.activation_functions.Activation_Sigmoid'>] [0] [True]\n"
     ]
    }
   ],
   "source": [
    "model = NN(\n",
    "    l1= 0, #7.742636826811278e-05,\n",
    "    l2= 0, #2.782559402207126e-07,\n",
    "    input_size=12,\n",
    "    hidden_sizes=[4],\n",
    "    output_size=3,\n",
    "    hidden_activations=[Activation_Sigmoid],\n",
    "    dropout_rates=[0],\n",
    "    use_batch_norm=[True]\n",
    ")\n",
    "# model = CascadeCorrelation(input_size = 17, output_size= 1, activation=Activation_Leaky_ReLU,\n",
    "#                            output_activation = Activation_Sigmoid)\n",
    "batch_size = 1\n",
    "learning_rate = 0.003\n",
    "n_epochs = 100\n",
    "weight_decay = 0"
   ]
  },
  {
   "cell_type": "code",
   "execution_count": null,
   "id": "3e9a3af0",
   "metadata": {},
   "outputs": [
    {
     "name": "stdout",
     "output_type": "stream",
     "text": [
      "Data shapes:\n",
      "X_train: (200, 12), y_train: (200, 3)\n",
      "Epoch 0: Train Loss: nan, R²: nan | Val Loss: nan, R²: nan\n",
      "Epoch 10: Train Loss: nan, R²: nan | Val Loss: nan, R²: nan\n",
      "Epoch 20: Train Loss: nan, R²: nan | Val Loss: nan, R²: nan\n",
      "Early stopping at epoch 29\n",
      "Restoring model weights from epoch 0\n",
      "Weights not restored\n",
      "Final Validation R² Score: nan\n"
     ]
    },
    {
     "data": {
      "image/png": "[encoded data removed]",
      "text/plain": [
       "<Figure size 576x432 with 1 Axes>"
      ]
     },
     "metadata": {
      "needs_background": "light"
     },
     "output_type": "display_data"
    },
    {
     "data": {
      "image/png": "[encoded data removed]",
      "text/plain": [
       "<Figure size 576x432 with 1 Axes>"
      ]
     },
     "metadata": {
      "needs_background": "light"
     },
     "output_type": "display_data"
    }
   ],
   "source": [
    "train_losses = []\n",
    "train_r2_scores = []\n",
    "val_losses = []\n",
    "val_r2_scores = []\n",
    "\n",
    "loss_function = MSE()\n",
    "optimizer = Optimizer_Adam(learning_rate=learning_rate, decay=weight_decay)\n",
    "early_stopping = EarlyStopping(patience=30, min_delta_loss=1e-5, min_delta_accuracy=0.001)\n",
    "\n",
    "print(\"Data shapes:\")\n",
    "print(f\"X_train: {X_train.shape}, y_train: {y_train.shape}\")\n",
    "# print(f\"Hyperparams: {best_hyperparams}\")\n",
    "\n",
    "for epoch in range(n_epochs):\n",
    "    batch_losses = []\n",
    "    batch_r2 = []\n",
    "\n",
    "    for X_batch, y_batch in create_batches(X_train, y_train, batch_size):\n",
    "        model.forward(X_batch, training=True)\n",
    "\n",
    "        loss = loss_function.forward(model.output, y_batch)\n",
    "        r2 = r2_score_global(y_batch, model.output)\n",
    "        \n",
    "        loss_function.backward(model.output, y_batch)\n",
    "        dvalues = loss_function.dinputs\n",
    "\n",
    "        for layer in reversed(model.layers):\n",
    "            layer.backward(dvalues)\n",
    "            dvalues = layer.dinputs\n",
    "\n",
    "        optimizer.pre_update_params()\n",
    "        for layer in model.layers:\n",
    "            if isinstance(layer, Layer_Dense):\n",
    "                optimizer.update_params(layer)\n",
    "        optimizer.post_update_params()\n",
    "\n",
    "        batch_losses.append(loss)\n",
    "        batch_r2.append(r2)\n",
    "\n",
    "    epoch_loss = np.mean(batch_losses)\n",
    "    epoch_r2 = np.mean(batch_r2)\n",
    "    train_losses.append(epoch_loss)\n",
    "    train_r2_scores.append(epoch_r2)\n",
    "\n",
    "    # Validation\n",
    "    X_val_input = X_val.values if isinstance(X_val, pd.DataFrame) else X_val\n",
    "    y_val_input = y_val.values if isinstance(y_val, (pd.Series, pd.DataFrame)) else y_val\n",
    "\n",
    "    model.forward(X_val_input, training=False)\n",
    "    val_loss = loss_function.forward(model.output, y_val_input)\n",
    "    val_r2 = r2_score(y_val_input, model.output)\n",
    "\n",
    "    val_losses.append(val_loss)\n",
    "    val_r2_scores.append(val_r2)\n",
    "\n",
    "    if epoch % 10 == 0:\n",
    "        print(f\"Epoch {epoch}: \", end=\"\")\n",
    "        print(f\"Train Loss: {epoch_loss:.4f}, R²: {epoch_r2:.4f} | \", end=\"\")\n",
    "        print(f\"Val Loss: {val_loss:.4f}, R²: {val_r2:.4f}\")\n",
    "\n",
    "    early_stopping.on_epoch_end(\n",
    "        current_loss=val_loss,\n",
    "        current_accuracy=val_r2,  # misnamed arg, still works internally\n",
    "        model=model,\n",
    "        epoch=epoch\n",
    "    )\n",
    "\n",
    "    if early_stopping.stop_training:\n",
    "        print(f\"Early stopping at epoch {epoch}\")\n",
    "        print(f\"Restoring model weights from epoch {early_stopping.best_epoch}\")\n",
    "        early_stopping.restore_weights(model)\n",
    "        if isinstance(model, CascadeCorrelation):\n",
    "            if model.is_limit_reached():\n",
    "                break\n",
    "            model.add_neuron()\n",
    "            early_stopping.wait = 0\n",
    "            early_stopping.patience -= int(early_stopping.patience / 10)\n",
    "            early_stopping.stop_training = False\n",
    "            print(f\"Added new neuron at epoch {epoch} with val_loss {val_losses[-1]:.4f}\")\n",
    "            continue\n",
    "        break\n",
    "\n",
    "# Final evaluation\n",
    "model.forward(X_val_input, training=False)\n",
    "final_val_loss = loss_function.forward(model.output, y_val_input)\n",
    "final_val_r2 = r2_score(y_val_input, model.output)\n",
    "print(f\"Final Validation R² Score: {final_val_r2:.4f}\")\n",
    "\n",
    "# Plot training progress\n",
    "plot_losses(train_losses, val_losses, 0,\n",
    "            label1=\"Training Loss\", label2=\"Validation Loss\",\n",
    "            title=\"Loss Over Epochs\")\n",
    "\n",
    "plot_accuracies(train_r2_scores, val_r2_scores, final_val_r2,\n",
    "                label1=\"Training R²\", label2=\"Validation R²\",\n",
    "                title=\"R² Score Over Epochs\")"
   ]
  },
  {
   "cell_type": "code",
   "execution_count": null,
   "id": "c82601c2",
   "metadata": {},
   "outputs": [],
   "source": []
  }
 ],
 "metadata": {
  "kernelspec": {
   "display_name": "Python 3",
   "language": "python",
   "name": "python3"
  },
  "language_info": {
   "codemirror_mode": {
    "name": "ipython",
    "version": 3
   },
   "file_extension": ".py",
   "mimetype": "text/x-python",
   "name": "python",
   "nbconvert_exporter": "python",
   "pygments_lexer": "ipython3",
   "version": "3.10.11"
  }
 },
 "nbformat": 4,
 "nbformat_minor": 5
}
