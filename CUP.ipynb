{
 "cells": [
  {
   "cell_type": "markdown",
   "id": "9b249f70",
   "metadata": {},
   "source": [
    "# CUP dataset\n",
    "\n",
    "Members:\n",
    "- Dieudunne\n",
    "- Mostafa\n",
    "- Matteo"
   ]
  },
  {
   "cell_type": "code",
   "execution_count": null,
   "id": "c44e849b",
   "metadata": {},
   "outputs": [],
   "source": [
    "%load_ext autoreload\n",
    "%autoreload 2"
   ]
  },
  {
   "cell_type": "code",
   "execution_count": null,
   "id": "1f027f73",
   "metadata": {},
   "outputs": [],
   "source": [
    "import sys\n",
    "import os\n",
    "\n",
    "# Add the src directory to the Python path\n",
    "src_path = os.path.join(os.getcwd(), 'src')\n",
    "if src_path not in sys.path:\n",
    "    sys.path.append(src_path)\n"
   ]
  },
  {
   "cell_type": "code",
   "execution_count": null,
   "id": "3dfe7148",
   "metadata": {},
   "outputs": [],
   "source": [
    "from src.activation_functions import *\n",
    "from src.loss_functions import *\n",
    "from src.random_search import *\n",
    "from src.batch_normalization import *\n",
    "from src.layer import *\n",
    "from src.early_stopping import *\n",
    "from src.utils import *\n",
    "from src.optimizers import *\n",
    "import itertools\n",
    "import pandas as pd\n",
    "import numpy as np\n",
    "import sys\n",
    "import os\n"
   ]
  },
  {
   "cell_type": "markdown",
   "id": "98055cad",
   "metadata": {},
   "source": [
    "## Data loading and splitting"
   ]
  },
  {
   "cell_type": "code",
   "execution_count": null,
   "id": "575e320b",
   "metadata": {},
   "outputs": [],
   "source": [
    "df_path = \"../ML_project/data/cup/ML-CUP24-TR.csv\"\n",
    "df_path2 = \"../ML_project/data/cup/ML-CUP24-TS.csv\"\n",
    "\n",
    "# Preview the dataset\n",
    "df = pd.read_csv(df_path, skiprows=7, header=None)\n",
    "df.head()"
   ]
  },
  {
   "cell_type": "code",
   "execution_count": null,
   "id": "3ad00fd9",
   "metadata": {},
   "outputs": [],
   "source": [
    "df.columns = [\"ID\"] + [f'input_{i}' for i in range(12)] + ['target_x', 'target_y', 'target_z']\n",
    "df = df.drop(\"ID\", axis=1)"
   ]
  },
  {
   "cell_type": "markdown",
   "id": "0468d850",
   "metadata": {},
   "source": [
    "Splitting training set into training and validation set"
   ]
  },
  {
   "cell_type": "code",
   "execution_count": null,
   "id": "7f408ab0",
   "metadata": {},
   "outputs": [],
   "source": [
    "X_train, X_val, y_train, y_val, X_scaler, y_scaler = preprocess_data(\n",
    "    df, \n",
    "    target=[\"target_x\", \"target_y\", \"target_z\"],\n",
    "    normalize_type=\"z-score\",\n",
    "    val_ratio=0.2,\n",
    "    regression=True\n",
    ")"
   ]
  },
  {
   "cell_type": "code",
   "execution_count": null,
   "id": "cde649dd",
   "metadata": {},
   "outputs": [],
   "source": [
    "X_train.shape, y_train.shape, X_val.shape, y_val.shape"
   ]
  },
  {
   "cell_type": "code",
   "execution_count": null,
   "id": "75c8fab4",
   "metadata": {},
   "outputs": [],
   "source": [
    "X_train = np.asarray(X_train)\n",
    "y_train = np.asarray(y_train)\n",
    "X_val = np.asarray(X_val)\n",
    "y_val = np.asarray(y_val)"
   ]
  },
  {
   "cell_type": "markdown",
   "id": "1c5b8d3a",
   "metadata": {},
   "source": [
    "## Random search\n",
    "\n",
    "Defining a grid or parameter distribution and searching over them for parameter selection"
   ]
  },
  {
   "cell_type": "code",
   "execution_count": null,
   "id": "4625dc29",
   "metadata": {},
   "outputs": [],
   "source": [
    "param_distributions = {\n",
    "    'hidden_size': [8, 16, 32, 64],\n",
    "    'n_h_layers': [2,3],\n",
    "    'hidden_activation': [Activation_Tanh, Activation_Leaky_ReLU, Activation_Sigmoid, Activation_ReLU],\n",
    "    'batch_norm': [True, False],\n",
    "    'learning_rate': np.logspace(-3, -1, num=5).tolist(),\n",
    "    'l1': np.logspace(-5, -1, num=5).tolist(),\n",
    "    'l2': np.logspace(-5, -1, num=5).tolist(),\n",
    "    'dropout_rate': np.logspace(-5, -1, num=20).tolist(),\n",
    "    'batch_size': [8, 16, 32,64],\n",
    "    'n_epochs': [100, 200, 300],\n",
    "    'weight_decay': [0, 5e-2, 1e-2, 1e-3, 1e-4, 1e-5], #np.logspace(-4, -1, num=5).tolist(),\n",
    "    'patience': [0, 30, 50],\n",
    "    'weights_init': ['gaussian', 'gaussian_scaled', 'xavier', 'he', 'random'],\n",
    "    'output_activation': [Activation_Linear()],\n",
    "    'sched_decay': [2]\n",
    "}\n",
    "\n",
    "print(f\"Number of possible combinations: {count_permutations(param_distributions)}\")"
   ]
  },
  {
   "cell_type": "code",
   "execution_count": null,
   "id": "2700b84f",
   "metadata": {},
   "outputs": [],
   "source": [
    "best_hyperparams, best_performance = random_search(X_train=X_train,\n",
    "                                                   y_train=y_train,\n",
    "                                                   param_distributions=param_distributions,\n",
    "                                                   n_iters=500, regression=True, csv_path=\"cup_top5res.csv\")  # adjust n_iters as needed\n"
   ]
  },
  {
   "cell_type": "code",
   "execution_count": null,
   "id": "ba0459b9",
   "metadata": {},
   "outputs": [],
   "source": [
    "print(best_hyperparams)"
   ]
  },
  {
   "cell_type": "markdown",
   "id": "c9ba6669",
   "metadata": {},
   "source": [
    "## Final model training"
   ]
  },
  {
   "cell_type": "code",
   "execution_count": null,
   "id": "3e9a3af0",
   "metadata": {},
   "outputs": [],
   "source": [
    "if best_hyperparams['CC']:\n",
    "    model = CascadeCorrelation(input_size = 12, output_size=3, activation=Activation_Leaky_ReLU, output_activation = Activation_Sigmoid)\n",
    "else:\n",
    "    model = NN(\n",
    "        l1=best_hyperparams['l1'],\n",
    "        l2=best_hyperparams['l2'],\n",
    "        input_size=12,\n",
    "        hidden_size=best_hyperparams['hidden_size'],\n",
    "        output_size=3,\n",
    "        hidden_activation=best_hyperparams['hidden_activation'],\n",
    "        dropout_rate=best_hyperparams['dropout_rate'],\n",
    "        use_batch_norm=best_hyperparams['batch_norm'],\n",
    "        weights_init=best_hyperparams['weights_init'],\n",
    "        n_h_layers=best_hyperparams['n_h_layers'],\n",
    "        output_activation=best_hyperparams['output_activation']\n",
    "    )\n",
    "\n",
    "train = Train(best_hyperparams, model, regression=True)\n",
    "train.train_and_evaluate(X_train, y_train, X_val, y_val)\n",
    "print(f\"Final Validation R² Score: {train.val_scores[-1]:.4f}; Loss {train.val_losses[-1]:.4f}\")\n",
    "train.plot(score=True)"
   ]
  }
 ],
 "metadata": {
  "kernelspec": {
   "display_name": "Python 3",
   "language": "python",
   "name": "python3"
  },
  "language_info": {
   "codemirror_mode": {
    "name": "ipython",
    "version": 3
   },
   "file_extension": ".py",
   "mimetype": "text/x-python",
   "name": "python",
   "nbconvert_exporter": "python",
   "pygments_lexer": "ipython3",
   "version": "3.10.11"
  }
 },
 "nbformat": 4,
 "nbformat_minor": 5
}
